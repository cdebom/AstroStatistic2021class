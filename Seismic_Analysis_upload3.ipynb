{
  "nbformat": 4,
  "nbformat_minor": 0,
  "metadata": {
    "colab": {
      "name": "Seismic_Analysis_upload3.ipynb",
      "provenance": [],
      "collapsed_sections": []
    },
    "kernelspec": {
      "name": "python3",
      "display_name": "Python 3"
    },
    "language_info": {
      "name": "python"
    }
  },
  "cells": [
    {
      "cell_type": "markdown",
      "metadata": {
        "id": "NnQY2hFHgDIS"
      },
      "source": [
        "Seismic Analysis with Python"
      ]
    },
    {
      "cell_type": "markdown",
      "metadata": {
        "id": "tS47pobPhiOh"
      },
      "source": [
        "\n",
        "1) Importing Libraries"
      ]
    },
    {
      "cell_type": "code",
      "metadata": {
        "colab": {
          "base_uri": "https://localhost:8080/"
        },
        "id": "meyOLZDYgTT-",
        "outputId": "bb766b94-84f3-4e08-d75c-a57ea5b6b74a"
      },
      "source": [
        "# Importing Libraries\n",
        "import numpy as np\n",
        "from scipy import ndimage as ndi\n",
        "from shutil import copyfile\n",
        "from skimage import exposure\n",
        "!pip install segyio\n",
        "import segyio\n",
        "import matplotlib\n",
        "import pandas as pd\n",
        "import matplotlib.pyplot as plt\n",
        "from matplotlib.offsetbox import AnchoredText\n",
        "\n",
        "\n"
      ],
      "execution_count": null,
      "outputs": [
        {
          "output_type": "stream",
          "name": "stdout",
          "text": [
            "Collecting segyio\n",
            "  Downloading segyio-1.9.7-cp37-cp37m-manylinux_2_12_x86_64.manylinux2010_x86_64.whl (83 kB)\n",
            "\u001b[?25l\r\u001b[K     |████                            | 10 kB 13.7 MB/s eta 0:00:01\r\u001b[K     |███████▉                        | 20 kB 19.4 MB/s eta 0:00:01\r\u001b[K     |███████████▊                    | 30 kB 24.3 MB/s eta 0:00:01\r\u001b[K     |███████████████▋                | 40 kB 19.2 MB/s eta 0:00:01\r\u001b[K     |███████████████████▋            | 51 kB 8.0 MB/s eta 0:00:01\r\u001b[K     |███████████████████████▌        | 61 kB 9.3 MB/s eta 0:00:01\r\u001b[K     |███████████████████████████▍    | 71 kB 8.4 MB/s eta 0:00:01\r\u001b[K     |███████████████████████████████▎| 81 kB 9.3 MB/s eta 0:00:01\r\u001b[K     |████████████████████████████████| 83 kB 2.0 MB/s \n",
            "\u001b[?25hRequirement already satisfied: numpy>=1.10 in /usr/local/lib/python3.7/dist-packages (from segyio) (1.19.5)\n",
            "Installing collected packages: segyio\n",
            "Successfully installed segyio-1.9.7\n"
          ]
        }
      ]
    },
    {
      "cell_type": "code",
      "source": [
        "#Data no Google Drive\n",
        "#from google.colab import drive\n",
        "#drive.mount('/content/drive')"
      ],
      "metadata": {
        "id": "QEZ5I_XNQ-6x"
      },
      "execution_count": null,
      "outputs": []
    },
    {
      "cell_type": "code",
      "metadata": {
        "id": "PRGUaCXjBP8N"
      },
      "source": [
        "#import segyio ## JA FORAM IMPORTADOS NO INICIO\n",
        "#import numpy as np ## JA FORAM IMPORTADOS NO INICIO\n",
        "#Data uploaded\n",
        "with segyio.open('SEAM_Interpretation_Challenge_1_2DSparseGathers_Depth.sgy','r+') as f:\n",
        "    for trace in f.trace:\n",
        "        filtered = trace[np.where(trace < 1e-2)]\n"
      ],
      "execution_count": null,
      "outputs": []
    },
    {
      "cell_type": "markdown",
      "metadata": {
        "id": "WrAq745piOxj"
      },
      "source": [
        "2) Loading Data"
      ]
    },
    {
      "cell_type": "code",
      "metadata": {
        "id": "kgIrllSB5dmC"
      },
      "source": [
        "import sys\n",
        "import os\n"
      ],
      "execution_count": null,
      "outputs": []
    },
    {
      "cell_type": "code",
      "metadata": {
        "id": "EmP93dQW1N-k"
      },
      "source": [
        "# Set the default plot size for matplotlib figures\n",
        "matplotlib.rcParams['figure.figsize'] = (11.75,8.5)"
      ],
      "execution_count": null,
      "outputs": []
    },
    {
      "cell_type": "code",
      "metadata": {
        "id": "h3Hq2CDm1tc7"
      },
      "source": [
        "base_segy = 'SEAM_Interpretation_Challenge_1_2DSparseGathers_Depth.sgy'"
      ],
      "execution_count": null,
      "outputs": []
    },
    {
      "cell_type": "code",
      "metadata": {
        "id": "wjlWkany2A7Y",
        "colab": {
          "base_uri": "https://localhost:8080/",
          "height": 209
        },
        "outputId": "d10119a9-cf80-4e42-a8f4-03b79ec30406"
      },
      "source": [
        "f = segyio.open(base_segy,ignore_geometry=True)\n",
        "segyio.tools.wrap(f.text[0])"
      ],
      "execution_count": null,
      "outputs": [
        {
          "output_type": "execute_result",
          "data": {
            "application/vnd.google.colaboratory.intrinsic+json": {
              "type": "string"
            },
            "text/plain": [
              "'C 1  Client: SEAM Corp.     Vendor: AGT                     Date: 14 Oct 2014\\nC 2  Project Description: SEAM Phase I Interpretation Challenge\\nC 3  SEGY Data Format: IBM Real                            XY Units: Meters\\nC 4  Data Description: 2793 Full Azimuth Shot Records with Free Surface\\nC 5  Data Type: RTM Migration with Perturbed Vp and Noise in depth   Units: m\\nC 6             Sparse collection of 2D offset gathers in depth\\nC 7\\nC 8  Projection: UTM Zone 16                Spheroid: WGS84\\nC 9  Geodetic Datum: WGS84                  Central Meridian: 87 degrees W\\nC10  Grid Origin XY: 401,674.66E 3,097,605.23N   Scale Factor: .9996\\nC11  Grid Origin Lat Long: 28:00:00N  88:00:00W\\nC12\\nC13  Corner     X        Y     Iline  Xline   Given in Local Coordinates     K\\nC14    1       2940    24000   1589   5801\\nC15    2      31740    24000   7349   5801    Number of gathers: 33\\nC16\\nC17  Distance between gather X locations:  900 meters\\nC18\\nC19  Inline bin size:      5 m               Max depth:          15000 m\\nC20  Crossline bin size:   5 m               Sample interval:    20 m\\nC21  First Sample:         0 ms              Samples/trace:      751\\nC22  Offsets: 0 - 11600 m  Increment: 400 m  Number of offsets:  30\\nC23\\nC24  Polarity: +RC peak                      Phase: Zero\\nC25  Datum: Sea Level\\nC26\\nC27  HEADER NAME       POSITION   LENGTH\\nC28  CDPX                181        4I\\nC29  CDPY                185        4I\\nC30  INLINE              189        4I\\nC31  CROSSLINE           193        4I\\nC32\\nC33  PROCESSING FLOW:\\nC34     Designature\\nC35     RTM with perturbed Vp\\nC36\\nC37\\nC38\\nC39  SEGY REV1\\nC40  END TEXTUAL HEADER'"
            ]
          },
          "metadata": {},
          "execution_count": 7
        }
      ]
    },
    {
      "cell_type": "code",
      "metadata": {
        "id": "NcF2QHXuiAXP",
        "colab": {
          "base_uri": "https://localhost:8080/"
        },
        "outputId": "d781ad49-53c3-4ca6-9e86-5e7d45ec0ea3"
      },
      "source": [
        "f.trace[10]\n",
        "f.trace[-2]"
      ],
      "execution_count": null,
      "outputs": [
        {
          "output_type": "execute_result",
          "data": {
            "text/plain": [
              "array([-2.01366043e+00, -6.05375385e+00, -3.78104305e+00, -8.63110006e-01,\n",
              "        6.11716866e-01, -1.63687706e+00, -2.72039413e+00, -1.14763451e+00,\n",
              "        3.35989475e+00,  4.76012993e+00,  3.01636696e+00,  1.83521557e+00,\n",
              "        2.65846252e+00, -1.27267742e+00, -3.69801140e+00,  8.05239201e-01,\n",
              "        4.53335667e+00, -1.65886497e+00, -6.33541203e+00,  8.70620906e-01,\n",
              "        7.55232525e+00,  4.12557602e+00,  5.89431465e-01,  5.17095290e-02,\n",
              "       -4.96521854e+00, -1.07247038e+01, -7.67143345e+00,  2.50645256e+00,\n",
              "        1.10698195e+01,  1.00203018e+01,  9.17518139e-01, -8.90377998e+00,\n",
              "       -9.49874973e+00,  1.43924522e+00,  8.84746647e+00,  2.81741047e+00,\n",
              "       -8.42773628e+00, -6.76858616e+00,  3.82758808e+00,  1.22012606e+01,\n",
              "        9.46120262e+00, -8.98574948e-01, -7.73301506e+00, -7.93793106e+00,\n",
              "       -1.43096924e+00,  4.90565586e+00,  3.15968513e+00,  9.93162572e-01,\n",
              "        1.53293324e+00,  2.92832184e+00,  2.60410786e+00, -7.50936151e-01,\n",
              "       -4.47587109e+00, -6.36281204e+00, -7.13270426e-01,  4.24686813e+00,\n",
              "       -6.18524432e-01, -7.36450863e+00, -2.28927326e+00,  6.71272373e+00,\n",
              "        3.75258255e+00, -9.49347782e+00, -8.34703350e+00,  7.37300205e+00,\n",
              "        1.78732300e+01,  1.31640291e+01, -5.32160282e-01, -8.42532444e+00,\n",
              "       -1.10773792e+01, -6.01653004e+00,  1.80954838e+00,  7.43215275e+00,\n",
              "        3.20165825e+00, -6.73680019e+00, -6.42342377e+00,  8.22889090e-01,\n",
              "        6.02881241e+00,  2.97925282e+00, -7.87215412e-01, -5.12140691e-01,\n",
              "        2.53087616e+00,  9.92177129e-02, -3.70834732e+00,  2.38673878e+00,\n",
              "        2.21116352e+00,  2.37938023e+00,  2.30319118e+00, -1.29623127e+00,\n",
              "       -1.40837765e+00, -6.30351841e-01, -3.06276989e+00, -2.89433122e-01,\n",
              "        4.15633202e+00,  5.03888488e-01, -1.50681019e+00, -4.11940575e+00,\n",
              "       -4.82269287e+00,  2.06311893e+00,  1.99765491e+00, -1.29409981e+00,\n",
              "       -8.27832699e-01, -6.42672181e-01, -5.85117303e-02, -8.55413556e-01,\n",
              "       -2.67156696e+00,  1.95345759e-01,  2.10131645e+00,  1.67972851e+00,\n",
              "        2.10183239e+00, -9.03788209e-02, -2.67042732e+00,  1.58122107e-02,\n",
              "        3.79872131e+00,  2.66314411e+00, -3.47676277e+00, -5.65707493e+00,\n",
              "       -8.10798883e-01,  4.49256897e+00,  3.93348980e+00, -2.01925278e+00,\n",
              "       -1.80573940e+00,  1.96786976e+00,  5.12119389e+00,  5.74984550e+00,\n",
              "       -1.27539730e+00, -7.01200390e+00, -4.30308723e+00,  4.09205914e+00,\n",
              "        7.58108330e+00,  3.73544407e+00, -4.46026993e+00, -1.20344210e+01,\n",
              "       -8.19403934e+00, -2.05735385e-01,  6.48955345e+00,  7.31249142e+00,\n",
              "        9.74246323e-01, -3.67618847e+00, -3.95018482e+00, -2.06666756e+00,\n",
              "        2.47274113e+00,  4.68337440e+00,  1.97369671e+00,  1.76522636e+00,\n",
              "        1.55221462e+00,  3.78017664e-01,  1.34905148e+00,  1.73766899e+00,\n",
              "       -3.14679909e+00, -6.37365246e+00, -4.21267605e+00,  1.90940686e-02,\n",
              "        2.19815159e+00,  2.50470734e+00,  3.25223160e+00,  3.93819332e+00,\n",
              "        3.45245647e+00,  8.98990035e-01, -3.45480251e+00, -8.21460724e+00,\n",
              "       -8.04454136e+00, -1.76920319e+00,  2.86029530e+00,  3.63926125e+00,\n",
              "        1.57403469e+00,  1.88897610e+00,  2.02449608e+00, -3.88221085e-01,\n",
              "       -6.07330036e+00, -8.01036930e+00, -5.00369453e+00,  3.41792762e-01,\n",
              "        2.28055573e+00,  6.95156395e-01, -7.32738554e-01,  7.44420409e-01,\n",
              "        3.86123848e+00,  5.20059967e+00,  3.23185349e+00, -1.14568329e+00,\n",
              "       -6.07773972e+00, -8.82783604e+00, -8.50144196e+00, -3.88662910e+00,\n",
              "        5.01514626e+00,  1.20146713e+01,  9.71841812e+00, -1.98776722e+00,\n",
              "       -1.21424017e+01, -1.17387409e+01, -3.85340595e+00,  2.19230652e+00,\n",
              "        1.44123936e+00, -8.01800072e-01,  2.34012604e+00,  8.27631474e+00,\n",
              "        1.22967777e+01,  9.74366379e+00,  1.90046120e+00, -8.86228085e+00,\n",
              "       -1.47614746e+01, -1.01092606e+01,  1.73487473e+00,  1.06842632e+01,\n",
              "        1.00490007e+01,  1.61962605e+00, -7.00041771e+00, -6.95122242e+00,\n",
              "        1.17208195e+00,  8.19802570e+00,  7.73392868e+00,  2.43831158e+00,\n",
              "       -1.88497829e+00, -2.48501492e+00, -1.61097431e+00, -2.38237095e+00,\n",
              "       -3.79198933e+00, -3.22638416e+00, -1.10008621e+00,  2.33258247e+00,\n",
              "        4.24750233e+00,  2.52012253e+00, -1.11973381e+00, -1.15128231e+00,\n",
              "        3.21527481e+00,  8.75704193e+00,  1.14233418e+01,  9.95978165e+00,\n",
              "        4.89503288e+00, -5.46424508e-01, -4.25062656e+00, -5.12240601e+00,\n",
              "       -3.14509392e+00,  8.91295433e-01,  4.28065395e+00,  4.61991978e+00,\n",
              "        3.83088779e+00,  1.53199482e+00, -2.49506760e+00, -5.53012657e+00,\n",
              "       -4.06892109e+00,  5.09465694e+00,  1.45155916e+01,  1.51918869e+01,\n",
              "        3.25146198e+00, -1.29552755e+01, -2.03038330e+01, -1.43244705e+01,\n",
              "       -7.13052750e-02,  1.03287020e+01,  9.18841076e+00,  1.62470222e-01,\n",
              "       -7.30867672e+00, -7.51693535e+00, -3.51276016e+00, -1.07213020e+00,\n",
              "       -2.17713165e+00, -3.58236980e+00, -2.89809799e+00, -3.99663544e+00,\n",
              "       -6.41418457e+00, -7.21227741e+00, -2.29550838e+00,  3.31637096e+00,\n",
              "        3.44575310e+00, -1.80016327e+00, -6.70866871e+00, -5.24028778e+00,\n",
              "        8.31164122e-02,  9.48131084e-02, -9.04267216e+00, -1.79949036e+01,\n",
              "       -1.73921509e+01, -8.41705894e+00, -2.20133603e-01, -3.10863435e-01,\n",
              "       -5.49259853e+00, -9.82716846e+00, -9.72807884e+00, -6.36348438e+00,\n",
              "       -1.73599434e+00, -1.13981143e-02,  3.57668661e-02,  1.13389015e+00,\n",
              "        3.47134781e+00,  2.43251991e+00, -1.84714127e+00, -1.02320251e+01,\n",
              "       -1.45845318e+01, -1.13261003e+01, -9.28783357e-01,  1.00221167e+01,\n",
              "        1.40775499e+01,  8.38529015e+00, -3.03193760e+00, -1.08190355e+01,\n",
              "       -9.64775181e+00, -1.29181480e+00,  7.13609695e+00,  9.29742050e+00,\n",
              "        5.04062176e+00, -2.17506981e+00, -6.97443295e+00, -8.01439285e+00,\n",
              "       -5.75429535e+00, -1.83247471e+00,  2.33842754e+00,  4.74762344e+00,\n",
              "        5.76994133e+00,  3.94272900e+00,  1.44602013e+00,  1.40872955e+00,\n",
              "        4.25514507e+00,  8.00027657e+00,  8.51163292e+00,  5.65366364e+00,\n",
              "        5.02122581e-01, -4.22237015e+00, -5.30941486e+00, -3.38980865e+00,\n",
              "        3.45806181e-01,  2.92436218e+00,  3.05213547e+00,  2.09234905e+00,\n",
              "       -1.50150895e-01, -4.30734825e+00, -9.04738712e+00, -1.32945318e+01,\n",
              "       -1.25671043e+01, -7.95317364e+00, -2.60527229e+00,  2.50501096e-01,\n",
              "        3.03311467e-01,  1.17160916e-01,  1.79836988e-01,  3.53092439e-02,\n",
              "       -2.06257725e+00, -4.78574467e+00, -5.83936214e+00, -4.24240303e+00,\n",
              "       -1.50134277e+00, -2.11563289e-01, -5.83924413e-01, -1.53245640e+00,\n",
              "       -2.19195366e+00, -1.56777763e+00, -8.31338227e-01, -8.33613873e-02,\n",
              "        5.66029251e-01,  2.99327850e-01, -2.65923999e-02, -1.17877483e+00,\n",
              "       -1.28784943e+00,  2.26114094e-01,  1.76229668e+00,  2.57671833e+00,\n",
              "        1.91985893e+00,  4.52597618e-01, -7.29207397e-01, -8.69498909e-01,\n",
              "        4.71532524e-01,  2.27487278e+00,  4.37149525e+00,  5.50528812e+00,\n",
              "        5.95008469e+00,  5.35750771e+00,  4.51103592e+00,  3.75309658e+00,\n",
              "        3.21911907e+00,  3.94175053e+00,  4.41517448e+00,  3.73073101e+00,\n",
              "        8.69230032e-01, -3.41831303e+00, -6.76421070e+00, -7.85801697e+00,\n",
              "       -6.67236137e+00, -5.95238686e+00, -6.63226032e+00, -8.08296299e+00,\n",
              "       -8.77813435e+00, -6.48529625e+00, -2.98261261e+00,  1.91863060e+00,\n",
              "        5.26378441e+00,  5.44387436e+00,  4.22460651e+00,  2.61926365e+00,\n",
              "        9.15623665e-01,  2.08536923e-01, -2.37271130e-01,  4.81873393e-01,\n",
              "        2.92425251e+00,  6.35623074e+00,  9.94702530e+00,  1.26959400e+01,\n",
              "        1.29135466e+01,  1.04038248e+01,  5.61470509e+00,  8.73114526e-01,\n",
              "       -4.46215057e+00, -8.98643017e+00, -1.09642754e+01, -1.06488390e+01,\n",
              "       -8.96327496e+00, -6.63597775e+00, -5.75602341e+00, -5.19660282e+00,\n",
              "       -5.01639080e+00, -4.17887974e+00, -2.04370785e+00,  9.70532596e-01,\n",
              "        4.06124210e+00,  5.93174458e+00,  5.84596157e+00,  4.41881561e+00,\n",
              "        1.43326569e+00, -6.18261874e-01, -7.00720727e-01,  3.21389735e-01,\n",
              "        3.39270115e+00,  5.73886585e+00,  6.74449825e+00,  4.89768028e+00,\n",
              "        1.99640179e+00, -8.14878762e-01, -2.14147568e+00, -2.59854317e+00,\n",
              "       -2.03048611e+00, -2.86158466e+00, -5.53855705e+00, -9.50994968e+00,\n",
              "       -1.39727125e+01, -1.66911774e+01, -1.56604671e+01, -1.15781679e+01,\n",
              "       -5.03976631e+00,  1.97043324e+00,  9.22279835e+00,  1.48655043e+01,\n",
              "        1.72832794e+01,  1.57212601e+01,  1.05257807e+01,  3.10162163e+00,\n",
              "       -4.80852699e+00, -9.02829647e+00, -6.82172871e+00, -2.23187208e-01,\n",
              "        1.02307758e+01,  1.92137756e+01,  2.32441101e+01,  2.06978455e+01,\n",
              "        1.29307213e+01,  4.68253553e-01, -1.39068260e+01, -2.57148590e+01,\n",
              "       -3.17758789e+01, -3.08929138e+01, -2.25807648e+01, -9.73573494e+00,\n",
              "        4.97759342e+00,  1.67996521e+01,  2.29116516e+01,  2.41070709e+01,\n",
              "        2.29570770e+01,  2.10057220e+01,  1.85041199e+01,  1.25831394e+01,\n",
              "        1.08031940e+00, -1.61410980e+01, -3.32083282e+01, -4.12014160e+01,\n",
              "       -3.51708984e+01, -1.59581547e+01,  7.32761097e+00,  2.32946320e+01,\n",
              "        2.32473297e+01,  1.01028576e+01, -1.99677181e+00, -1.96636677e+00,\n",
              "        9.95122433e+00,  2.36114349e+01,  2.50343475e+01,  1.11693993e+01,\n",
              "       -1.04775648e+01, -2.88121033e+01, -3.54779968e+01, -3.10715485e+01,\n",
              "       -1.72205353e+01, -1.91020966e+00,  9.66585445e+00,  1.33214617e+01,\n",
              "        1.16680193e+01,  5.89140129e+00,  2.29536533e+00,  6.96322203e-01,\n",
              "        2.32541561e+00,  2.14522076e+00,  1.02675378e-01, -4.26366520e+00,\n",
              "       -7.24835873e+00, -6.20617771e+00,  6.66196108e-01,  1.17702246e+01,\n",
              "        2.20285797e+01,  2.62584686e+01,  2.13677521e+01,  7.05742264e+00,\n",
              "       -7.72634125e+00, -1.98758698e+01, -2.47880249e+01, -2.22588501e+01,\n",
              "       -1.75460510e+01, -1.13902493e+01, -7.33354473e+00, -3.39495182e+00,\n",
              "        1.14148998e+00,  3.89484882e+00,  7.83781147e+00,  1.08388824e+01,\n",
              "        1.29536352e+01,  1.37411156e+01,  1.21182737e+01,  7.89028835e+00,\n",
              "        1.78005028e+00, -4.03581619e+00, -6.99472427e+00, -5.97929573e+00,\n",
              "       -4.59943867e+00, -6.88168716e+00, -1.35967760e+01, -2.08179779e+01,\n",
              "       -2.22038269e+01, -1.47903376e+01, -1.69068456e-01,  1.38611231e+01,\n",
              "        2.44499359e+01,  2.73033447e+01,  2.62296906e+01,  2.04952545e+01,\n",
              "        1.34352551e+01,  4.43183899e+00, -6.94655514e+00, -1.95952606e+01,\n",
              "       -2.91459656e+01, -3.32939911e+01, -2.93503113e+01, -1.48457556e+01,\n",
              "        2.28856564e+00,  1.67331390e+01,  2.25808105e+01,  1.61592712e+01,\n",
              "        3.33499718e+00, -1.08113003e+01, -1.93830719e+01, -1.84148712e+01,\n",
              "       -9.73783970e+00,  1.06397438e+00,  9.90390968e+00,  1.59119396e+01,\n",
              "        1.68116760e+01,  1.40178747e+01,  1.01036978e+01,  5.74859619e+00,\n",
              "        2.36418724e+00, -9.29784536e-01, -4.46389675e+00, -8.91971016e+00,\n",
              "       -1.32275648e+01, -1.47257166e+01, -1.20246553e+01, -4.36869049e+00,\n",
              "        6.13070679e+00,  1.51829548e+01,  1.99390717e+01,  1.73618011e+01,\n",
              "        6.93067169e+00, -5.18215370e+00, -1.46958466e+01, -1.78588257e+01,\n",
              "       -1.46532326e+01, -7.57959080e+00,  1.56939316e+00,  1.14072151e+01,\n",
              "        1.95041351e+01,  2.36653595e+01,  1.96975098e+01,  7.48175716e+00,\n",
              "       -9.99655247e+00, -2.53552551e+01, -2.98771515e+01, -2.17511597e+01,\n",
              "       -6.53895569e+00,  7.57336617e+00,  1.26215792e+01,  9.47747803e+00,\n",
              "        9.23907757e-01, -6.44165039e+00, -8.05534363e+00, -6.07994080e+00,\n",
              "       -1.87268639e+00,  4.49839175e-01,  2.40570259e+00,  3.26915646e+00,\n",
              "        2.28693008e+00, -9.86370623e-01, -7.79233837e+00, -1.60107422e+01,\n",
              "       -2.24446259e+01, -2.29306335e+01, -1.71587372e+01, -7.16101360e+00,\n",
              "        5.22404575e+00,  1.61409302e+01,  2.38879852e+01,  2.84821777e+01,\n",
              "        3.00088959e+01,  2.93109741e+01,  2.57141266e+01,  1.90213013e+01,\n",
              "        9.16091347e+00, -2.59254742e+00, -1.43008461e+01, -2.24285431e+01,\n",
              "       -2.47328186e+01, -1.98737183e+01, -8.99844837e+00,  3.41240406e+00,\n",
              "        1.19810209e+01,  1.38834829e+01,  7.91669083e+00, -5.37395477e+00,\n",
              "       -1.99261475e+01, -3.01637726e+01, -3.09153290e+01, -2.28200226e+01,\n",
              "       -6.81665802e+00,  9.83393764e+00,  2.35678101e+01,  2.98833923e+01,\n",
              "        2.79654236e+01,  1.96197357e+01,  7.36308956e+00, -7.24935818e+00,\n",
              "       -2.05699463e+01, -2.86481628e+01, -2.77671967e+01, -1.80614777e+01,\n",
              "       -2.39922905e+00,  1.26930943e+01,  1.98785095e+01,  1.76011047e+01,\n",
              "        7.35858631e+00, -3.30668449e+00, -8.41044140e+00, -4.16934013e+00,\n",
              "        5.55534935e+00,  1.44868851e+01,  1.63081665e+01,  9.55953789e+00,\n",
              "       -2.33201694e+00, -1.35124950e+01, -1.92151337e+01, -1.87253876e+01,\n",
              "       -1.18427277e+01, -2.50682163e+00,  5.41845608e+00,  1.10494680e+01,\n",
              "        1.44472466e+01,  1.42573891e+01,  1.16982183e+01,  8.38115501e+00,\n",
              "        6.02132511e+00,  4.35174465e+00,  3.47444439e+00,  2.10369468e-01,\n",
              "       -4.73662663e+00, -1.21464758e+01, -2.13248444e+01, -2.75315552e+01,\n",
              "       -2.94566345e+01, -2.45858917e+01, -1.34318714e+01,  1.66129780e+00,\n",
              "        1.89131470e+01,  3.15878601e+01,  3.66692047e+01,  3.18558197e+01,\n",
              "        1.76663513e+01, -1.22523212e+00, -1.85611572e+01, -2.84593811e+01,\n",
              "       -2.93094635e+01, -2.22298889e+01, -1.13097572e+01,  1.01825905e+00,\n",
              "        1.18731260e+01,  1.87368774e+01,  1.96949463e+01,  1.35863943e+01,\n",
              "        3.31571293e+00, -4.15534782e+00, -1.85197639e+00,  9.73901272e+00,\n",
              "        2.03457336e+01,  1.77150269e+01, -6.10598087e-01, -2.51445312e+01,\n",
              "       -4.04535828e+01, -3.91111298e+01, -2.44065704e+01, -1.06222410e+01,\n",
              "       -2.42227268e+00,  2.36312771e+00,  1.07694702e+01,  2.39158783e+01,\n",
              "        3.55352020e+01,  3.96794128e+01,  3.11793823e+01,  1.43119640e+01,\n",
              "       -6.12602520e+00, -2.53623962e+01, -3.88332825e+01, -4.33169556e+01,\n",
              "       -3.78524933e+01, -2.17919922e+01, -3.75811338e-01,  1.86064453e+01,\n",
              "        2.94475861e+01,  2.83537598e+01,  1.82997589e+01,  9.40002918e+00,\n",
              "        7.30757523e+00,  1.20782270e+01,  1.64498444e+01,  6.91037273e+00,\n",
              "       -1.23948936e+01, -3.47896118e+01, -4.84546356e+01, -4.55390320e+01,\n",
              "       -2.78000946e+01, -1.82289219e+00,  2.33918304e+01,  3.88699036e+01,\n",
              "        3.98901520e+01,  2.87623444e+01,  1.25479879e+01, -4.45453584e-01,\n",
              "       -9.17955589e+00, -1.42937288e+01,  1.51700377e-01], dtype=float32)"
            ]
          },
          "metadata": {},
          "execution_count": 8
        }
      ]
    },
    {
      "cell_type": "code",
      "metadata": {
        "id": "5a8fae6d",
        "colab": {
          "base_uri": "https://localhost:8080/"
        },
        "outputId": "120c078c-2a27-499f-caf5-3d8c455e77a3"
      },
      "source": [
        "f.samples[:5]"
      ],
      "execution_count": null,
      "outputs": [
        {
          "output_type": "execute_result",
          "data": {
            "text/plain": [
              "array([ 0., 20., 40., 60., 80.])"
            ]
          },
          "metadata": {},
          "execution_count": 9
        }
      ]
    },
    {
      "cell_type": "code",
      "metadata": {
        "id": "90299ebb"
      },
      "source": [
        "with segyio.open(base_segy) as segyf:\n",
        "    n_traces = segyf.tracecount\n",
        "    sample_rate = segyio.tools.dt(segyf)\n",
        "    n_samples = segyf.samples.size\n",
        "    n_il = len(segyf.iline)"
      ],
      "execution_count": null,
      "outputs": []
    },
    {
      "cell_type": "code",
      "metadata": {
        "id": "9b28dcfe",
        "colab": {
          "base_uri": "https://localhost:8080/"
        },
        "outputId": "a28b436c-4a8c-4b66-9de3-45eca0ee332a"
      },
      "source": [
        "f = segyio.open(base_segy, ignore_geometry = True)\n",
        "ntraces    = len(f.trace)\n",
        "inlines    = []\n",
        "crosslines = []\n",
        "\n",
        "for i in range(ntraces):\n",
        "    headeri = f.header[i]\n",
        "    inlines.append(headeri[segyio.su.iline])\n",
        "    crosslines.append(headeri[segyio.su.xline])\n",
        "\n",
        "print(f'{ntraces} traces')\n",
        "print(f'first 10 inlines: {inlines[:10]}')\n",
        "print(f'first 10 crosslines: {crosslines[:10]}')\n"
      ],
      "execution_count": null,
      "outputs": [
        {
          "output_type": "stream",
          "name": "stdout",
          "text": [
            "990 traces\n",
            "first 10 inlines: [1589, 1589, 1589, 1589, 1589, 1589, 1589, 1589, 1589, 1589]\n",
            "first 10 crosslines: [5801, 5801, 5801, 5801, 5801, 5801, 5801, 5801, 5801, 5801]\n"
          ]
        }
      ]
    },
    {
      "cell_type": "code",
      "source": [
        "# loading the seismic data as cube\n",
        "seismic_data = segyio.tools.cube(base_segy)"
      ],
      "metadata": {
        "id": "D6F7GR5EIgGg"
      },
      "execution_count": null,
      "outputs": []
    },
    {
      "cell_type": "code",
      "source": [
        "# lets check the inline, xline spread of the seismic data\n",
        "print('Survey IL/XL shape:' +str(np.shape(seismic_data)[0])+ ' / ' +str(np.shape(seismic_data)[1]))"
      ],
      "metadata": {
        "id": "p0po4iVNJqp5",
        "colab": {
          "base_uri": "https://localhost:8080/"
        },
        "outputId": "333a7e78-dd91-4538-9215-b99bd203e4d9"
      },
      "execution_count": null,
      "outputs": [
        {
          "output_type": "stream",
          "name": "stdout",
          "text": [
            "Survey IL/XL shape:1 / 33\n"
          ]
        }
      ]
    },
    {
      "cell_type": "code",
      "source": [
        "#Check the inline e cross line range for the seismic data directly from segy file is below\n",
        "print('Inline Range:' +str(np.amin(segyf.ilines))+'-'+str(np.amax(segyf.ilines)))\n",
        "print('Xnline Range:' +str(np.amin(segyf.xlines))+'-'+str(np.amax(segyf.xlines)))"
      ],
      "metadata": {
        "id": "IObZJCbFGuAY",
        "colab": {
          "base_uri": "https://localhost:8080/"
        },
        "outputId": "d0ca66a9-54e9-478f-adb4-1997e7591dab"
      },
      "execution_count": null,
      "outputs": [
        {
          "output_type": "stream",
          "name": "stdout",
          "text": [
            "Inline Range:1589-7349\n",
            "Xnline Range:5801-5801\n"
          ]
        }
      ]
    },
    {
      "cell_type": "code",
      "metadata": {
        "id": "0bfad4b6"
      },
      "source": [
        "# Plot the inline and crossline as a scatter plot\n",
        "#plt.scatter(crosslines, inlines, marker=\"s\", s=1)"
      ],
      "execution_count": null,
      "outputs": []
    },
    {
      "cell_type": "code",
      "metadata": {
        "scrolled": true,
        "id": "88392163",
        "colab": {
          "base_uri": "https://localhost:8080/"
        },
        "outputId": "d7127759-1a13-4a3f-a25a-58bd3b058417"
      },
      "source": [
        "import itertools\n",
        "uniqil = set(inlines)\n",
        "uniqxl = set(crosslines)\n",
        "real = set(zip(inlines, crosslines))\n",
        "grid = set(itertools.product(uniqil, uniqxl))\n",
        "missing = grid - real\n",
        "missing"
      ],
      "execution_count": null,
      "outputs": [
        {
          "output_type": "execute_result",
          "data": {
            "text/plain": [
              "set()"
            ]
          },
          "metadata": {},
          "execution_count": 16
        }
      ]
    },
    {
      "cell_type": "code",
      "metadata": {
        "id": "f3de44de"
      },
      "source": [
        "#plt.plot(inlines)"
      ],
      "execution_count": null,
      "outputs": []
    },
    {
      "cell_type": "code",
      "metadata": {
        "id": "b54c1748",
        "colab": {
          "base_uri": "https://localhost:8080/",
          "height": 527
        },
        "outputId": "358ff6f2-cc3e-41a2-b867-e1b806b855ed"
      },
      "source": [
        "plt.plot(crosslines[:5000])"
      ],
      "execution_count": null,
      "outputs": [
        {
          "output_type": "execute_result",
          "data": {
            "text/plain": [
              "[<matplotlib.lines.Line2D at 0x7f82f7df7210>]"
            ]
          },
          "metadata": {},
          "execution_count": 18
        },
        {
          "output_type": "display_data",
          "data": {
            "image/png": "[encoded data removed]",
            "text/plain": [
              "<Figure size 846x612 with 1 Axes>"
            ]
          },
          "metadata": {
            "needs_background": "light"
          }
        }
      ]
    },
    {
      "cell_type": "code",
      "metadata": {
        "id": "aB7hpUcXjkWy"
      },
      "source": [
        "# NAO ESTA FUNCIONANDO DADOS ESTRUTURADO\n",
        "#f.header[5]={segyio.su.tracl: 10}\n",
        "#f.header[5].items()\n",
        "#f.header[5][25, 37] # read multiple values at once\n"
      ],
      "execution_count": null,
      "outputs": []
    },
    {
      "cell_type": "code",
      "metadata": {
        "id": "8678f4e4",
        "colab": {
          "base_uri": "https://localhost:8080/"
        },
        "outputId": "4c50f668-1d62-47f5-fc35-d11ce9b367b9"
      },
      "source": [
        "#import numpy as np\n",
        "ils = np.unique(inlines)\n",
        "xls = np.unique(crosslines)\n",
        "inline_interval    = ils[1:] - ils[:-1]\n",
        "crossline_interval = xls[1:] - xls[:-1]\n",
        "print(inline_interval)\n",
        "print(crossline_interval)"
      ],
      "execution_count": null,
      "outputs": [
        {
          "output_type": "stream",
          "name": "stdout",
          "text": [
            "[180 180 180 180 180 180 180 180 180 180 180 180 180 180 180 180 180 180\n",
            " 180 180 180 180 180 180 180 180 180 180 180 180 180 180]\n",
            "[]\n"
          ]
        }
      ]
    },
    {
      "cell_type": "code",
      "source": [
        "ils = sorted(uniqil)\n",
        "xls = sorted(uniqxl)\n",
        "lineindex = {\n",
        "    (il, xl): i\n",
        "    for i, (il, xl) in enumerate(sorted(grid))\n",
        "\n",
        "}\n",
        "lineindex"
      ],
      "metadata": {
        "id": "-kWpqe1x-_Kx",
        "colab": {
          "base_uri": "https://localhost:8080/"
        },
        "outputId": "6aaed5fc-d0bd-4217-fbf4-c9939a1c063b"
      },
      "execution_count": null,
      "outputs": [
        {
          "output_type": "execute_result",
          "data": {
            "text/plain": [
              "{(1589, 5801): 0,\n",
              " (1769, 5801): 1,\n",
              " (1949, 5801): 2,\n",
              " (2129, 5801): 3,\n",
              " (2309, 5801): 4,\n",
              " (2489, 5801): 5,\n",
              " (2669, 5801): 6,\n",
              " (2849, 5801): 7,\n",
              " (3029, 5801): 8,\n",
              " (3209, 5801): 9,\n",
              " (3389, 5801): 10,\n",
              " (3569, 5801): 11,\n",
              " (3749, 5801): 12,\n",
              " (3929, 5801): 13,\n",
              " (4109, 5801): 14,\n",
              " (4289, 5801): 15,\n",
              " (4469, 5801): 16,\n",
              " (4649, 5801): 17,\n",
              " (4829, 5801): 18,\n",
              " (5009, 5801): 19,\n",
              " (5189, 5801): 20,\n",
              " (5369, 5801): 21,\n",
              " (5549, 5801): 22,\n",
              " (5729, 5801): 23,\n",
              " (5909, 5801): 24,\n",
              " (6089, 5801): 25,\n",
              " (6269, 5801): 26,\n",
              " (6449, 5801): 27,\n",
              " (6629, 5801): 28,\n",
              " (6809, 5801): 29,\n",
              " (6989, 5801): 30,\n",
              " (7169, 5801): 31,\n",
              " (7349, 5801): 32}"
            ]
          },
          "metadata": {},
          "execution_count": 21
        }
      ]
    },
    {
      "cell_type": "code",
      "metadata": {
        "id": "285ee1fa"
      },
      "source": [
        "d = np.zeros((len(ils), len(xls), len(f.samples)))\n",
        "lineard = d.reshape(d.shape[0] * d.shape[1], d.shape[2])\n",
        "for il, xl, trace in zip(inlines, crosslines, f.trace[:]):\n",
        "    lineard[lineindex[il, xl]][:] = trace[:]"
      ],
      "execution_count": null,
      "outputs": []
    },
    {
      "cell_type": "code",
      "source": [
        "d.shape"
      ],
      "metadata": {
        "id": "f8yH24vB_E6-",
        "colab": {
          "base_uri": "https://localhost:8080/"
        },
        "outputId": "da181b60-eeb9-40bb-874a-887d099aedab"
      },
      "execution_count": null,
      "outputs": [
        {
          "output_type": "execute_result",
          "data": {
            "text/plain": [
              "(33, 1, 751)"
            ]
          },
          "metadata": {},
          "execution_count": 23
        }
      ]
    },
    {
      "cell_type": "code",
      "source": [
        "# Set up some aliases\n",
        "ilines = np.array(sorted(uniqil))\n",
        "xlines = np.array(sorted(uniqxl))\n",
        "t = np.array(f.samples)\n",
        "\n",
        "# Estimate the amplitude range to use for the plots by taking the 95th percentile\n",
        "\n",
        "vm = np.percentile(d, 95)\n",
        "print(vm)\n",
        "\n",
        "# Define the central line\n",
        "central = len(ilines) // 2"
      ],
      "metadata": {
        "id": "Yz5fuCZQ_azF",
        "colab": {
          "base_uri": "https://localhost:8080/"
        },
        "outputId": "d1ebd471-ccea-49d1-ad34-9688058c74d7"
      },
      "execution_count": null,
      "outputs": [
        {
          "output_type": "stream",
          "name": "stdout",
          "text": [
            "19.057722473144516\n"
          ]
        }
      ]
    },
    {
      "cell_type": "code",
      "source": [
        "# Plot\n",
        "\n",
        "plt.imshow(d[central,:,:].T, cmap='gray', aspect='auto', vmin=-vm, vmax=vm)\n",
        "plt.show()"
      ],
      "metadata": {
        "id": "XVwagKwQ_eds",
        "colab": {
          "base_uri": "https://localhost:8080/",
          "height": 514
        },
        "outputId": "0771295c-7dfa-4fc7-f5bf-221494ebaedc"
      },
      "execution_count": null,
      "outputs": [
        {
          "output_type": "display_data",
          "data": {
            "image/png": "[encoded data removed]",
            "text/plain": [
              "<Figure size 846x612 with 1 Axes>"
            ]
          },
          "metadata": {
            "needs_background": "light"
          }
        }
      ]
    },
    {
      "cell_type": "code",
      "source": [
        "# Plot paleta\n",
        "#plt.imshow(d[central,:,:].T, cmap='RdBu',aspect='auto',vmin=-vm, vmax=vm)\n",
        "plt.imshow(d[central,:,:].T, cmap='RdBu',aspect='auto', vmin=-10, vmax=10)\n",
        "plt.show()"
      ],
      "metadata": {
        "id": "sWT-34TEf1K5",
        "colab": {
          "base_uri": "https://localhost:8080/",
          "height": 514
        },
        "outputId": "3a1fa55a-c8fc-46c8-9238-d85c8798301a"
      },
      "execution_count": null,
      "outputs": [
        {
          "output_type": "display_data",
          "data": {
            "image/png": "[encoded data removed]",
            "text/plain": [
              "<Figure size 846x612 with 1 Axes>"
            ]
          },
          "metadata": {
            "needs_background": "light"
          }
        }
      ]
    },
    {
      "cell_type": "code",
      "source": [
        "## 3D DATA\n",
        "## lets plot the seismic data\n",
        "#fig = plt.figure(figsize=(12,6))\n",
        "#ax = fig.add_subplot(121)\n",
        "#sim = ax.imshow(d[:,150,:],cmap = 'gray',aspect='auto',vmin=-vm, vmax=vm)\n",
        "#fig.colorbar(sim,ax = ax)\n",
        "#ax.set_xticks([])\n",
        "#ax.set_yticks([])\n",
        "#ax.invert_xaxis()\n",
        "## To display the timeslice alongside this seismic section\n",
        "#ax1 = fig.add_subplot(122)\n",
        "#sim2 = ax1.imshow(seismic_data[:,:,100],cmap = 'gray');\n",
        "#fig.colorbar(sim2,ax = ax1)\n",
        "#ax1.set_xticks([])\n",
        "#ax1.set_yticks([])\n",
        "#ax1.invert_xaxis()"
      ],
      "metadata": {
        "id": "5LN47chTXZaQ"
      },
      "execution_count": null,
      "outputs": []
    },
    {
      "cell_type": "code",
      "source": [
        "fig,ax = plt.subplots()\n",
        "\n",
        "# Some example data\n",
        "y = np.linspace(700.,900.,401)\n",
        "offset = 94.\n",
        "x = offset+10*(np.sin(y/2.)*\n",
        "        1/(10. * np.sqrt(2 * np.pi)) *\n",
        "        np.exp( - (y - 800)**2 / (2 * 10.**2))\n",
        "        ) # This function just gives a wave that looks something like a seismic arrival\n",
        "\n",
        "ax.plot(x,y,'k-')\n",
        "ax.fill_betweenx(y,offset,x,where=(x>offset),color='k')\n",
        "\n",
        "ax.set_xlim(93,95)\n",
        "\n",
        "plt.show()"
      ],
      "metadata": {
        "id": "mOwcMFsyiyjz",
        "colab": {
          "base_uri": "https://localhost:8080/",
          "height": 510
        },
        "outputId": "bd7f8037-aed7-4280-aa81-4bac5afb1146"
      },
      "execution_count": null,
      "outputs": [
        {
          "output_type": "display_data",
          "data": {
            "image/png": "[encoded data removed]",
            "text/plain": [
              "<Figure size 846x612 with 1 Axes>"
            ]
          },
          "metadata": {
            "needs_background": "light"
          }
        }
      ]
    },
    {
      "cell_type": "code",
      "source": [
        "fig,ax = plt.subplots()\n",
        "\n",
        "# Some example data\n",
        "y = np.linspace(700.,900.,401)\n",
        "offsets = [94., 95., 96., 97.]\n",
        "times = [800., 790., 780., 770.]\n",
        "\n",
        "for offset, time in zip(offsets,times):\n",
        "    x = offset+10*(np.sin(y/2.)*\n",
        "        1/(10. * np.sqrt(2 * np.pi)) *\n",
        "        np.exp( - (y - time)**2 / (2 * 10.**2))\n",
        "        )\n",
        "\n",
        "    ax.plot(x,y,'k-')\n",
        "    ax.fill_betweenx(y,offset,x,where=(x>offset),color='k')\n",
        "\n",
        "ax.set_xlim(93,98)\n",
        "\n",
        "plt.show()"
      ],
      "metadata": {
        "id": "3eYdeocKj2Ug",
        "colab": {
          "base_uri": "https://localhost:8080/",
          "height": 510
        },
        "outputId": "b1f1ce21-f6e3-46fe-9cc9-bf94fe47308b"
      },
      "execution_count": null,
      "outputs": [
        {
          "output_type": "display_data",
          "data": {
            "image/png": "[encoded data removed]",
            "text/plain": [
              "<Figure size 846x612 with 1 Axes>"
            ]
          },
          "metadata": {
            "needs_background": "light"
          }
        }
      ]
    },
    {
      "cell_type": "code",
      "source": [
        "extent = [xlines[0], xlines[-1], t[-1], t[0]]\n",
        "\n",
        "# Plot the central inline in the usual orientation by transposing the data\n",
        "\n",
        "plt.imshow(d[central,:,:].T, cmap='gray', aspect='auto', vmin=-vm, vmax=vm, extent=extent)\n",
        "\n",
        "plt.xlabel('Xline')\n",
        "plt.ylabel('TWT (ms)')\n",
        "plt.title('SEAM Phase I Interpretation Challenge'+ str(ilines[central]))\n",
        "plt.show()"
      ],
      "metadata": {
        "id": "vn5eBcjm_pGh"
      },
      "execution_count": null,
      "outputs": []
    },
    {
      "cell_type": "code",
      "source": [
        "# Central time slice\n",
        "\n",
        "tmid = len(t)//2\n",
        "\n",
        "extent = [xlines[0], xlines[-1], ilines[0], ilines[-1]]\n",
        "\n",
        "plt.imshow(d[:,:,tmid], cmap='gray', origin='lower', aspect='auto', vmin=-vm, vmax=vm, extent=extent)\n",
        "\n",
        "plt.xlabel('CRL')\n",
        "plt.ylabel('INL')\n",
        "plt.title('SEAM Phase I Interpretation Challenge '+ str(t[tmid])+'ms')\n",
        "plt.show()"
      ],
      "metadata": {
        "id": "7vOHs-NRADvR"
      },
      "execution_count": null,
      "outputs": []
    },
    {
      "cell_type": "code",
      "source": [
        "import xarray as xr\n",
        "!pip install hvplot\n",
        "import panel as pn"
      ],
      "metadata": {
        "id": "Qvps0GDNqG9T",
        "colab": {
          "base_uri": "https://localhost:8080/"
        },
        "outputId": "743c4df5-77b0-4767-ac8d-f4ec652072d1"
      },
      "execution_count": null,
      "outputs": [
        {
          "output_type": "stream",
          "name": "stdout",
          "text": [
            "Collecting hvplot\n",
            "  Downloading hvplot-0.7.3-py2.py3-none-any.whl (3.1 MB)\n",
            "\u001b[K     |████████████████████████████████| 3.1 MB 8.6 MB/s \n",
            "\u001b[?25hRequirement already satisfied: pandas in /usr/local/lib/python3.7/dist-packages (from hvplot) (1.1.5)\n",
            "Requirement already satisfied: holoviews>=1.11.0 in /usr/local/lib/python3.7/dist-packages (from hvplot) (1.14.6)\n",
            "Requirement already satisfied: bokeh>=1.0.0 in /usr/local/lib/python3.7/dist-packages (from hvplot) (2.3.3)\n",
            "Requirement already satisfied: numpy>=1.15 in /usr/local/lib/python3.7/dist-packages (from hvplot) (1.19.5)\n",
            "Requirement already satisfied: colorcet>=2 in /usr/local/lib/python3.7/dist-packages (from hvplot) (2.0.6)\n",
            "Requirement already satisfied: packaging>=16.8 in /usr/local/lib/python3.7/dist-packages (from bokeh>=1.0.0->hvplot) (21.3)\n",
            "Requirement already satisfied: tornado>=5.1 in /usr/local/lib/python3.7/dist-packages (from bokeh>=1.0.0->hvplot) (5.1.1)\n",
            "Requirement already satisfied: python-dateutil>=2.1 in /usr/local/lib/python3.7/dist-packages (from bokeh>=1.0.0->hvplot) (2.8.2)\n",
            "Requirement already satisfied: pillow>=7.1.0 in /usr/local/lib/python3.7/dist-packages (from bokeh>=1.0.0->hvplot) (7.1.2)\n",
            "Requirement already satisfied: typing-extensions>=3.7.4 in /usr/local/lib/python3.7/dist-packages (from bokeh>=1.0.0->hvplot) (3.10.0.2)\n",
            "Requirement already satisfied: Jinja2>=2.9 in /usr/local/lib/python3.7/dist-packages (from bokeh>=1.0.0->hvplot) (2.11.3)\n",
            "Requirement already satisfied: PyYAML>=3.10 in /usr/local/lib/python3.7/dist-packages (from bokeh>=1.0.0->hvplot) (3.13)\n",
            "Requirement already satisfied: param>=1.7.0 in /usr/local/lib/python3.7/dist-packages (from colorcet>=2->hvplot) (1.12.0)\n",
            "Requirement already satisfied: pyct>=0.4.4 in /usr/local/lib/python3.7/dist-packages (from colorcet>=2->hvplot) (0.4.8)\n",
            "Requirement already satisfied: panel>=0.8.0 in /usr/local/lib/python3.7/dist-packages (from holoviews>=1.11.0->hvplot) (0.12.1)\n",
            "Requirement already satisfied: pyviz-comms>=0.7.4 in /usr/local/lib/python3.7/dist-packages (from holoviews>=1.11.0->hvplot) (2.1.0)\n",
            "Requirement already satisfied: MarkupSafe>=0.23 in /usr/local/lib/python3.7/dist-packages (from Jinja2>=2.9->bokeh>=1.0.0->hvplot) (2.0.1)\n",
            "Requirement already satisfied: pyparsing!=3.0.5,>=2.0.2 in /usr/local/lib/python3.7/dist-packages (from packaging>=16.8->bokeh>=1.0.0->hvplot) (3.0.6)\n",
            "Requirement already satisfied: pytz>=2017.2 in /usr/local/lib/python3.7/dist-packages (from pandas->hvplot) (2018.9)\n",
            "Requirement already satisfied: tqdm>=4.48.0 in /usr/local/lib/python3.7/dist-packages (from panel>=0.8.0->holoviews>=1.11.0->hvplot) (4.62.3)\n",
            "Requirement already satisfied: requests in /usr/local/lib/python3.7/dist-packages (from panel>=0.8.0->holoviews>=1.11.0->hvplot) (2.23.0)\n",
            "Requirement already satisfied: bleach in /usr/local/lib/python3.7/dist-packages (from panel>=0.8.0->holoviews>=1.11.0->hvplot) (4.1.0)\n",
            "Requirement already satisfied: markdown in /usr/local/lib/python3.7/dist-packages (from panel>=0.8.0->holoviews>=1.11.0->hvplot) (3.3.6)\n",
            "Requirement already satisfied: six>=1.5 in /usr/local/lib/python3.7/dist-packages (from python-dateutil>=2.1->bokeh>=1.0.0->hvplot) (1.15.0)\n",
            "Requirement already satisfied: webencodings in /usr/local/lib/python3.7/dist-packages (from bleach->panel>=0.8.0->holoviews>=1.11.0->hvplot) (0.5.1)\n",
            "Requirement already satisfied: importlib-metadata>=4.4 in /usr/local/lib/python3.7/dist-packages (from markdown->panel>=0.8.0->holoviews>=1.11.0->hvplot) (4.8.2)\n",
            "Requirement already satisfied: zipp>=0.5 in /usr/local/lib/python3.7/dist-packages (from importlib-metadata>=4.4->markdown->panel>=0.8.0->holoviews>=1.11.0->hvplot) (3.6.0)\n",
            "Requirement already satisfied: chardet<4,>=3.0.2 in /usr/local/lib/python3.7/dist-packages (from requests->panel>=0.8.0->holoviews>=1.11.0->hvplot) (3.0.4)\n",
            "Requirement already satisfied: idna<3,>=2.5 in /usr/local/lib/python3.7/dist-packages (from requests->panel>=0.8.0->holoviews>=1.11.0->hvplot) (2.10)\n",
            "Requirement already satisfied: certifi>=2017.4.17 in /usr/local/lib/python3.7/dist-packages (from requests->panel>=0.8.0->holoviews>=1.11.0->hvplot) (2021.10.8)\n",
            "Requirement already satisfied: urllib3!=1.25.0,!=1.25.1,<1.26,>=1.21.1 in /usr/local/lib/python3.7/dist-packages (from requests->panel>=0.8.0->holoviews>=1.11.0->hvplot) (1.24.3)\n",
            "Installing collected packages: hvplot\n",
            "Successfully installed hvplot-0.7.3\n"
          ]
        }
      ]
    },
    {
      "cell_type": "code",
      "metadata": {
        "id": "d7ac5df5"
      },
      "source": [
        "# Define a plotting function, the input will be the inline\n",
        "\n",
        "def plot_inl(inl):\n",
        "    \"\"\"\n",
        "    Plot a single inline using hvplot\n",
        "    \"\"\"\n",
        "    idx = inl - ilines[0]\n",
        "    da = xr.DataArray(d[idx,:,:].T)    \n",
        "    p = da.hvplot.image(clim=(-vm, vm), cmap='gray', flip_yaxis=True) \n",
        "    return p"
      ],
      "execution_count": null,
      "outputs": []
    },
    {
      "cell_type": "code",
      "source": [
        "# Restore in 3D Data\n",
        "#plot_inl(ilines[central])"
      ],
      "metadata": {
        "id": "K6iAAeIVsT0_"
      },
      "execution_count": null,
      "outputs": []
    },
    {
      "cell_type": "code",
      "source": [
        "# Restore in 3D Data\n",
        "# Use panel to pass an array of ilines to the function\n",
        "\n",
        "#pn.interact(plot_inl, inl = ilines)"
      ],
      "metadata": {
        "id": "WF8uCgfEuPgv"
      },
      "execution_count": null,
      "outputs": []
    },
    {
      "cell_type": "code",
      "source": [
        "# Restore in 3D Data\n",
        "#line_select = pn.widgets.Select(name='INL Selection', options=ilines.tolist())\n",
        "\n",
        "#pn.interact(plot_inl, inl = line_select)"
      ],
      "metadata": {
        "id": "1EF1p2y7uZpL"
      },
      "execution_count": null,
      "outputs": []
    },
    {
      "cell_type": "code",
      "metadata": {
        "id": "f8cd3d7c"
      },
      "source": [
        "##Create a Data Array\n",
        "#da = xr.DataArray(data = d,\n",
        "#                  dims = ['il','xl','twt'],\n",
        "#                  coords = {'il': ilines,\n",
        "#                          'xl': xlines,\n",
        "#                          'twt': t})\n",
        "## Take a look\n",
        "#da\n",
        "#da.sel(twt = 3000)\n",
        "#da[:,:,749]\n",
        "## To select a range we use slice\n",
        "#da.sel(twt = slice(2000,3000))\n",
        "## Add some attribute information to the datarray\n",
        "#da.attrs['Year'] = '2002'\n",
        "#da.attrs['Type'] = 'Final PSDM time converted'\n",
        "\n",
        "## Create a dataset\n",
        "#volve_ds = da.to_dataset(name = 'base')\n",
        "\n",
        "## Add some attribute information to the dataset\n",
        "#volve_ds.attrs['Country'] = 'Norway'\n",
        "#volve_ds.attrs['Field'] = 'Volve'\n",
        "\n",
        "## Take a look\n",
        "#volve_ds\n",
        "## Extract a line from the base survey\n",
        "#volve_ds['base'].sel(il = 9963)"
      ],
      "execution_count": null,
      "outputs": []
    },
    {
      "cell_type": "code",
      "metadata": {
        "id": "5paPipYc_US1",
        "colab": {
          "base_uri": "https://localhost:8080/",
          "height": 510
        },
        "outputId": "a3636b22-a165-40d9-ac96-73bc382bd5dd"
      },
      "source": [
        "filename = 'SEAM_Interpretation_Challenge_1_2DSparseGathers_Depth.sgy'\n",
        "with segyio.open(filename, ignore_geometry=True) as segyfile:\n",
        "    segyfile.mmap()\n",
        "\n",
        "    # Extract header word for all traces\n",
        "    sourceX = segyfile.attributes(segyio.TraceField.SourceX)[:]\n",
        "\n",
        "    # Scatter plot sources and receivers color-coded on their number\n",
        "    plt.figure()\n",
        "    sourceY = segyfile.attributes(segyio.TraceField.SourceY)[:]\n",
        "    nsum = segyfile.attributes(segyio.TraceField.NSummedTraces)[:]\n",
        "    plt.scatter(sourceX, sourceY, c=nsum, edgecolor='none')\n",
        "\n",
        "    groupX = segyfile.attributes(segyio.TraceField.GroupX)[:]\n",
        "    groupY = segyfile.attributes(segyio.TraceField.GroupY)[:]\n",
        "    nstack = segyfile.attributes(segyio.TraceField.NStackedTraces)[:]\n",
        "    plt.scatter(groupX, groupY, c=nstack, edgecolor='none')\n"
      ],
      "execution_count": null,
      "outputs": [
        {
          "output_type": "display_data",
          "data": {
            "image/png": "[encoded data removed]",
            "text/plain": [
              "<Figure size 846x612 with 1 Axes>"
            ]
          },
          "metadata": {
            "needs_background": "light"
          }
        }
      ]
    },
    {
      "cell_type": "markdown",
      "metadata": {
        "id": "t3zBv4Bkidis"
      },
      "source": [
        "2) Data Preprocessing"
      ]
    },
    {
      "cell_type": "code",
      "metadata": {
        "id": "wLhPnPKNAQHI",
        "colab": {
          "base_uri": "https://localhost:8080/"
        },
        "outputId": "796aa16a-4528-47c4-b7d1-faf326679536"
      },
      "source": [
        "def main():\n",
        "    filename = 'SEAM_Interpretation_Challenge_1_2DSparseGathers_Depth.sgy'\n",
        "\n",
        "    # Open file\n",
        "    with segyio.open(filename, ignore_geometry=True) as f:\n",
        "    # Get all header keys:\n",
        "        header_keys = segyio.tracefield.keys\n",
        "        # Initialize df with trace id as index and headers as columns\n",
        "        trace_headers = pd.DataFrame(index=range(1, f.tracecount+1),\n",
        "                                 columns=header_keys.keys())\n",
        "        # Fill dataframe with all trace headers values\n",
        "        for k, v in header_keys.items():\n",
        "            trace_headers[k] = f.attributes(v)[:]\n",
        "    print(trace_headers.head())\n",
        "    trace_headers.to_csv('out.csv')\n",
        "if __name__ == '__main__':\n",
        "    main()"
      ],
      "execution_count": null,
      "outputs": [
        {
          "output_type": "stream",
          "name": "stdout",
          "text": [
            "   TRACE_SEQUENCE_LINE  TRACE_SEQUENCE_FILE  ...  UnassignedInt1  UnassignedInt2\n",
            "1                    0                    0  ...               0               0\n",
            "2                    0                    0  ...               0               0\n",
            "3                    0                    0  ...               0               0\n",
            "4                    0                    0  ...               0               0\n",
            "5                    0                    0  ...               0               0\n",
            "\n",
            "[5 rows x 91 columns]\n"
          ]
        }
      ]
    },
    {
      "cell_type": "code",
      "metadata": {
        "id": "4n4IntLaiecp",
        "colab": {
          "base_uri": "https://localhost:8080/",
          "height": 461
        },
        "outputId": "498021cc-411e-425e-9363-3cc2df69f628"
      },
      "source": [
        "pd.read_csv('out.csv')\n"
      ],
      "execution_count": null,
      "outputs": [
        {
          "output_type": "execute_result",
          "data": {
            "text/html": [
              "<div>\n",
              "<style scoped>\n",
              "    .dataframe tbody tr th:only-of-type {\n",
              "        vertical-align: middle;\n",
              "    }\n",
              "\n",
              "    .dataframe tbody tr th {\n",
              "        vertical-align: top;\n",
              "    }\n",
              "\n",
              "    .dataframe thead th {\n",
              "        text-align: right;\n",
              "    }\n",
              "</style>\n",
              "<table border=\"1\" class=\"dataframe\">\n",
              "  <thead>\n",
              "    <tr style=\"text-align: right;\">\n",
              "      <th></th>\n",
              "      <th>Unnamed: 0</th>\n",
              "      <th>TRACE_SEQUENCE_LINE</th>\n",
              "      <th>TRACE_SEQUENCE_FILE</th>\n",
              "      <th>FieldRecord</th>\n",
              "      <th>TraceNumber</th>\n",
              "      <th>EnergySourcePoint</th>\n",
              "      <th>CDP</th>\n",
              "      <th>CDP_TRACE</th>\n",
              "      <th>TraceIdentificationCode</th>\n",
              "      <th>NSummedTraces</th>\n",
              "      <th>NStackedTraces</th>\n",
              "      <th>DataUse</th>\n",
              "      <th>offset</th>\n",
              "      <th>ReceiverGroupElevation</th>\n",
              "      <th>SourceSurfaceElevation</th>\n",
              "      <th>SourceDepth</th>\n",
              "      <th>ReceiverDatumElevation</th>\n",
              "      <th>SourceDatumElevation</th>\n",
              "      <th>SourceWaterDepth</th>\n",
              "      <th>GroupWaterDepth</th>\n",
              "      <th>ElevationScalar</th>\n",
              "      <th>SourceGroupScalar</th>\n",
              "      <th>SourceX</th>\n",
              "      <th>SourceY</th>\n",
              "      <th>GroupX</th>\n",
              "      <th>GroupY</th>\n",
              "      <th>CoordinateUnits</th>\n",
              "      <th>WeatheringVelocity</th>\n",
              "      <th>SubWeatheringVelocity</th>\n",
              "      <th>SourceUpholeTime</th>\n",
              "      <th>GroupUpholeTime</th>\n",
              "      <th>SourceStaticCorrection</th>\n",
              "      <th>GroupStaticCorrection</th>\n",
              "      <th>TotalStaticApplied</th>\n",
              "      <th>LagTimeA</th>\n",
              "      <th>LagTimeB</th>\n",
              "      <th>DelayRecordingTime</th>\n",
              "      <th>MuteTimeStart</th>\n",
              "      <th>MuteTimeEND</th>\n",
              "      <th>TRACE_SAMPLE_COUNT</th>\n",
              "      <th>...</th>\n",
              "      <th>AliasFilterFrequency</th>\n",
              "      <th>AliasFilterSlope</th>\n",
              "      <th>NotchFilterFrequency</th>\n",
              "      <th>NotchFilterSlope</th>\n",
              "      <th>LowCutFrequency</th>\n",
              "      <th>HighCutFrequency</th>\n",
              "      <th>LowCutSlope</th>\n",
              "      <th>HighCutSlope</th>\n",
              "      <th>YearDataRecorded</th>\n",
              "      <th>DayOfYear</th>\n",
              "      <th>HourOfDay</th>\n",
              "      <th>MinuteOfHour</th>\n",
              "      <th>SecondOfMinute</th>\n",
              "      <th>TimeBaseCode</th>\n",
              "      <th>TraceWeightingFactor</th>\n",
              "      <th>GeophoneGroupNumberRoll1</th>\n",
              "      <th>GeophoneGroupNumberFirstTraceOrigField</th>\n",
              "      <th>GeophoneGroupNumberLastTraceOrigField</th>\n",
              "      <th>GapSize</th>\n",
              "      <th>OverTravel</th>\n",
              "      <th>CDP_X</th>\n",
              "      <th>CDP_Y</th>\n",
              "      <th>INLINE_3D</th>\n",
              "      <th>CROSSLINE_3D</th>\n",
              "      <th>ShotPoint</th>\n",
              "      <th>ShotPointScalar</th>\n",
              "      <th>TraceValueMeasurementUnit</th>\n",
              "      <th>TransductionConstantMantissa</th>\n",
              "      <th>TransductionConstantPower</th>\n",
              "      <th>TransductionUnit</th>\n",
              "      <th>TraceIdentifier</th>\n",
              "      <th>ScalarTraceHeader</th>\n",
              "      <th>SourceType</th>\n",
              "      <th>SourceEnergyDirectionMantissa</th>\n",
              "      <th>SourceEnergyDirectionExponent</th>\n",
              "      <th>SourceMeasurementMantissa</th>\n",
              "      <th>SourceMeasurementExponent</th>\n",
              "      <th>SourceMeasurementUnit</th>\n",
              "      <th>UnassignedInt1</th>\n",
              "      <th>UnassignedInt2</th>\n",
              "    </tr>\n",
              "  </thead>\n",
              "  <tbody>\n",
              "    <tr>\n",
              "      <th>0</th>\n",
              "      <td>1</td>\n",
              "      <td>0</td>\n",
              "      <td>0</td>\n",
              "      <td>0</td>\n",
              "      <td>0</td>\n",
              "      <td>1589</td>\n",
              "      <td>5801</td>\n",
              "      <td>0</td>\n",
              "      <td>1</td>\n",
              "      <td>0</td>\n",
              "      <td>0</td>\n",
              "      <td>0</td>\n",
              "      <td>0</td>\n",
              "      <td>0</td>\n",
              "      <td>0</td>\n",
              "      <td>0</td>\n",
              "      <td>0</td>\n",
              "      <td>0</td>\n",
              "      <td>0</td>\n",
              "      <td>0</td>\n",
              "      <td>1</td>\n",
              "      <td>1</td>\n",
              "      <td>2940</td>\n",
              "      <td>24000</td>\n",
              "      <td>2940</td>\n",
              "      <td>24000</td>\n",
              "      <td>0</td>\n",
              "      <td>0</td>\n",
              "      <td>0</td>\n",
              "      <td>0</td>\n",
              "      <td>0</td>\n",
              "      <td>0</td>\n",
              "      <td>0</td>\n",
              "      <td>0</td>\n",
              "      <td>0</td>\n",
              "      <td>0</td>\n",
              "      <td>0</td>\n",
              "      <td>0</td>\n",
              "      <td>0</td>\n",
              "      <td>751</td>\n",
              "      <td>...</td>\n",
              "      <td>0</td>\n",
              "      <td>0</td>\n",
              "      <td>0</td>\n",
              "      <td>0</td>\n",
              "      <td>0</td>\n",
              "      <td>0</td>\n",
              "      <td>0</td>\n",
              "      <td>0</td>\n",
              "      <td>0</td>\n",
              "      <td>0</td>\n",
              "      <td>0</td>\n",
              "      <td>0</td>\n",
              "      <td>0</td>\n",
              "      <td>0</td>\n",
              "      <td>0</td>\n",
              "      <td>0</td>\n",
              "      <td>0</td>\n",
              "      <td>0</td>\n",
              "      <td>0</td>\n",
              "      <td>0</td>\n",
              "      <td>2940</td>\n",
              "      <td>24000</td>\n",
              "      <td>1589</td>\n",
              "      <td>5801</td>\n",
              "      <td>0</td>\n",
              "      <td>0</td>\n",
              "      <td>0</td>\n",
              "      <td>0</td>\n",
              "      <td>0</td>\n",
              "      <td>0</td>\n",
              "      <td>0</td>\n",
              "      <td>0</td>\n",
              "      <td>0</td>\n",
              "      <td>0</td>\n",
              "      <td>0</td>\n",
              "      <td>0</td>\n",
              "      <td>0</td>\n",
              "      <td>0</td>\n",
              "      <td>0</td>\n",
              "      <td>0</td>\n",
              "    </tr>\n",
              "    <tr>\n",
              "      <th>1</th>\n",
              "      <td>2</td>\n",
              "      <td>0</td>\n",
              "      <td>0</td>\n",
              "      <td>0</td>\n",
              "      <td>0</td>\n",
              "      <td>1589</td>\n",
              "      <td>5801</td>\n",
              "      <td>0</td>\n",
              "      <td>1</td>\n",
              "      <td>0</td>\n",
              "      <td>0</td>\n",
              "      <td>0</td>\n",
              "      <td>400</td>\n",
              "      <td>0</td>\n",
              "      <td>0</td>\n",
              "      <td>0</td>\n",
              "      <td>0</td>\n",
              "      <td>0</td>\n",
              "      <td>0</td>\n",
              "      <td>0</td>\n",
              "      <td>1</td>\n",
              "      <td>1</td>\n",
              "      <td>2940</td>\n",
              "      <td>24000</td>\n",
              "      <td>2940</td>\n",
              "      <td>24000</td>\n",
              "      <td>0</td>\n",
              "      <td>0</td>\n",
              "      <td>0</td>\n",
              "      <td>0</td>\n",
              "      <td>0</td>\n",
              "      <td>0</td>\n",
              "      <td>0</td>\n",
              "      <td>0</td>\n",
              "      <td>0</td>\n",
              "      <td>0</td>\n",
              "      <td>0</td>\n",
              "      <td>0</td>\n",
              "      <td>0</td>\n",
              "      <td>751</td>\n",
              "      <td>...</td>\n",
              "      <td>0</td>\n",
              "      <td>0</td>\n",
              "      <td>0</td>\n",
              "      <td>0</td>\n",
              "      <td>0</td>\n",
              "      <td>0</td>\n",
              "      <td>0</td>\n",
              "      <td>0</td>\n",
              "      <td>0</td>\n",
              "      <td>0</td>\n",
              "      <td>0</td>\n",
              "      <td>0</td>\n",
              "      <td>0</td>\n",
              "      <td>0</td>\n",
              "      <td>0</td>\n",
              "      <td>0</td>\n",
              "      <td>0</td>\n",
              "      <td>0</td>\n",
              "      <td>0</td>\n",
              "      <td>0</td>\n",
              "      <td>2940</td>\n",
              "      <td>24000</td>\n",
              "      <td>1589</td>\n",
              "      <td>5801</td>\n",
              "      <td>0</td>\n",
              "      <td>0</td>\n",
              "      <td>0</td>\n",
              "      <td>0</td>\n",
              "      <td>0</td>\n",
              "      <td>0</td>\n",
              "      <td>0</td>\n",
              "      <td>0</td>\n",
              "      <td>0</td>\n",
              "      <td>0</td>\n",
              "      <td>0</td>\n",
              "      <td>0</td>\n",
              "      <td>0</td>\n",
              "      <td>0</td>\n",
              "      <td>0</td>\n",
              "      <td>0</td>\n",
              "    </tr>\n",
              "    <tr>\n",
              "      <th>2</th>\n",
              "      <td>3</td>\n",
              "      <td>0</td>\n",
              "      <td>0</td>\n",
              "      <td>0</td>\n",
              "      <td>0</td>\n",
              "      <td>1589</td>\n",
              "      <td>5801</td>\n",
              "      <td>0</td>\n",
              "      <td>1</td>\n",
              "      <td>0</td>\n",
              "      <td>0</td>\n",
              "      <td>0</td>\n",
              "      <td>800</td>\n",
              "      <td>0</td>\n",
              "      <td>0</td>\n",
              "      <td>0</td>\n",
              "      <td>0</td>\n",
              "      <td>0</td>\n",
              "      <td>0</td>\n",
              "      <td>0</td>\n",
              "      <td>1</td>\n",
              "      <td>1</td>\n",
              "      <td>2940</td>\n",
              "      <td>24000</td>\n",
              "      <td>2940</td>\n",
              "      <td>24000</td>\n",
              "      <td>0</td>\n",
              "      <td>0</td>\n",
              "      <td>0</td>\n",
              "      <td>0</td>\n",
              "      <td>0</td>\n",
              "      <td>0</td>\n",
              "      <td>0</td>\n",
              "      <td>0</td>\n",
              "      <td>0</td>\n",
              "      <td>0</td>\n",
              "      <td>0</td>\n",
              "      <td>0</td>\n",
              "      <td>0</td>\n",
              "      <td>751</td>\n",
              "      <td>...</td>\n",
              "      <td>0</td>\n",
              "      <td>0</td>\n",
              "      <td>0</td>\n",
              "      <td>0</td>\n",
              "      <td>0</td>\n",
              "      <td>0</td>\n",
              "      <td>0</td>\n",
              "      <td>0</td>\n",
              "      <td>0</td>\n",
              "      <td>0</td>\n",
              "      <td>0</td>\n",
              "      <td>0</td>\n",
              "      <td>0</td>\n",
              "      <td>0</td>\n",
              "      <td>0</td>\n",
              "      <td>0</td>\n",
              "      <td>0</td>\n",
              "      <td>0</td>\n",
              "      <td>0</td>\n",
              "      <td>0</td>\n",
              "      <td>2940</td>\n",
              "      <td>24000</td>\n",
              "      <td>1589</td>\n",
              "      <td>5801</td>\n",
              "      <td>0</td>\n",
              "      <td>0</td>\n",
              "      <td>0</td>\n",
              "      <td>0</td>\n",
              "      <td>0</td>\n",
              "      <td>0</td>\n",
              "      <td>0</td>\n",
              "      <td>0</td>\n",
              "      <td>0</td>\n",
              "      <td>0</td>\n",
              "      <td>0</td>\n",
              "      <td>0</td>\n",
              "      <td>0</td>\n",
              "      <td>0</td>\n",
              "      <td>0</td>\n",
              "      <td>0</td>\n",
              "    </tr>\n",
              "    <tr>\n",
              "      <th>3</th>\n",
              "      <td>4</td>\n",
              "      <td>0</td>\n",
              "      <td>0</td>\n",
              "      <td>0</td>\n",
              "      <td>0</td>\n",
              "      <td>1589</td>\n",
              "      <td>5801</td>\n",
              "      <td>0</td>\n",
              "      <td>1</td>\n",
              "      <td>0</td>\n",
              "      <td>0</td>\n",
              "      <td>0</td>\n",
              "      <td>1200</td>\n",
              "      <td>0</td>\n",
              "      <td>0</td>\n",
              "      <td>0</td>\n",
              "      <td>0</td>\n",
              "      <td>0</td>\n",
              "      <td>0</td>\n",
              "      <td>0</td>\n",
              "      <td>1</td>\n",
              "      <td>1</td>\n",
              "      <td>2940</td>\n",
              "      <td>24000</td>\n",
              "      <td>2940</td>\n",
              "      <td>24000</td>\n",
              "      <td>0</td>\n",
              "      <td>0</td>\n",
              "      <td>0</td>\n",
              "      <td>0</td>\n",
              "      <td>0</td>\n",
              "      <td>0</td>\n",
              "      <td>0</td>\n",
              "      <td>0</td>\n",
              "      <td>0</td>\n",
              "      <td>0</td>\n",
              "      <td>0</td>\n",
              "      <td>0</td>\n",
              "      <td>0</td>\n",
              "      <td>751</td>\n",
              "      <td>...</td>\n",
              "      <td>0</td>\n",
              "      <td>0</td>\n",
              "      <td>0</td>\n",
              "      <td>0</td>\n",
              "      <td>0</td>\n",
              "      <td>0</td>\n",
              "      <td>0</td>\n",
              "      <td>0</td>\n",
              "      <td>0</td>\n",
              "      <td>0</td>\n",
              "      <td>0</td>\n",
              "      <td>0</td>\n",
              "      <td>0</td>\n",
              "      <td>0</td>\n",
              "      <td>0</td>\n",
              "      <td>0</td>\n",
              "      <td>0</td>\n",
              "      <td>0</td>\n",
              "      <td>0</td>\n",
              "      <td>0</td>\n",
              "      <td>2940</td>\n",
              "      <td>24000</td>\n",
              "      <td>1589</td>\n",
              "      <td>5801</td>\n",
              "      <td>0</td>\n",
              "      <td>0</td>\n",
              "      <td>0</td>\n",
              "      <td>0</td>\n",
              "      <td>0</td>\n",
              "      <td>0</td>\n",
              "      <td>0</td>\n",
              "      <td>0</td>\n",
              "      <td>0</td>\n",
              "      <td>0</td>\n",
              "      <td>0</td>\n",
              "      <td>0</td>\n",
              "      <td>0</td>\n",
              "      <td>0</td>\n",
              "      <td>0</td>\n",
              "      <td>0</td>\n",
              "    </tr>\n",
              "    <tr>\n",
              "      <th>4</th>\n",
              "      <td>5</td>\n",
              "      <td>0</td>\n",
              "      <td>0</td>\n",
              "      <td>0</td>\n",
              "      <td>0</td>\n",
              "      <td>1589</td>\n",
              "      <td>5801</td>\n",
              "      <td>0</td>\n",
              "      <td>1</td>\n",
              "      <td>0</td>\n",
              "      <td>0</td>\n",
              "      <td>0</td>\n",
              "      <td>1600</td>\n",
              "      <td>0</td>\n",
              "      <td>0</td>\n",
              "      <td>0</td>\n",
              "      <td>0</td>\n",
              "      <td>0</td>\n",
              "      <td>0</td>\n",
              "      <td>0</td>\n",
              "      <td>1</td>\n",
              "      <td>1</td>\n",
              "      <td>2940</td>\n",
              "      <td>24000</td>\n",
              "      <td>2940</td>\n",
              "      <td>24000</td>\n",
              "      <td>0</td>\n",
              "      <td>0</td>\n",
              "      <td>0</td>\n",
              "      <td>0</td>\n",
              "      <td>0</td>\n",
              "      <td>0</td>\n",
              "      <td>0</td>\n",
              "      <td>0</td>\n",
              "      <td>0</td>\n",
              "      <td>0</td>\n",
              "      <td>0</td>\n",
              "      <td>0</td>\n",
              "      <td>0</td>\n",
              "      <td>751</td>\n",
              "      <td>...</td>\n",
              "      <td>0</td>\n",
              "      <td>0</td>\n",
              "      <td>0</td>\n",
              "      <td>0</td>\n",
              "      <td>0</td>\n",
              "      <td>0</td>\n",
              "      <td>0</td>\n",
              "      <td>0</td>\n",
              "      <td>0</td>\n",
              "      <td>0</td>\n",
              "      <td>0</td>\n",
              "      <td>0</td>\n",
              "      <td>0</td>\n",
              "      <td>0</td>\n",
              "      <td>0</td>\n",
              "      <td>0</td>\n",
              "      <td>0</td>\n",
              "      <td>0</td>\n",
              "      <td>0</td>\n",
              "      <td>0</td>\n",
              "      <td>2940</td>\n",
              "      <td>24000</td>\n",
              "      <td>1589</td>\n",
              "      <td>5801</td>\n",
              "      <td>0</td>\n",
              "      <td>0</td>\n",
              "      <td>0</td>\n",
              "      <td>0</td>\n",
              "      <td>0</td>\n",
              "      <td>0</td>\n",
              "      <td>0</td>\n",
              "      <td>0</td>\n",
              "      <td>0</td>\n",
              "      <td>0</td>\n",
              "      <td>0</td>\n",
              "      <td>0</td>\n",
              "      <td>0</td>\n",
              "      <td>0</td>\n",
              "      <td>0</td>\n",
              "      <td>0</td>\n",
              "    </tr>\n",
              "    <tr>\n",
              "      <th>...</th>\n",
              "      <td>...</td>\n",
              "      <td>...</td>\n",
              "      <td>...</td>\n",
              "      <td>...</td>\n",
              "      <td>...</td>\n",
              "      <td>...</td>\n",
              "      <td>...</td>\n",
              "      <td>...</td>\n",
              "      <td>...</td>\n",
              "      <td>...</td>\n",
              "      <td>...</td>\n",
              "      <td>...</td>\n",
              "      <td>...</td>\n",
              "      <td>...</td>\n",
              "      <td>...</td>\n",
              "      <td>...</td>\n",
              "      <td>...</td>\n",
              "      <td>...</td>\n",
              "      <td>...</td>\n",
              "      <td>...</td>\n",
              "      <td>...</td>\n",
              "      <td>...</td>\n",
              "      <td>...</td>\n",
              "      <td>...</td>\n",
              "      <td>...</td>\n",
              "      <td>...</td>\n",
              "      <td>...</td>\n",
              "      <td>...</td>\n",
              "      <td>...</td>\n",
              "      <td>...</td>\n",
              "      <td>...</td>\n",
              "      <td>...</td>\n",
              "      <td>...</td>\n",
              "      <td>...</td>\n",
              "      <td>...</td>\n",
              "      <td>...</td>\n",
              "      <td>...</td>\n",
              "      <td>...</td>\n",
              "      <td>...</td>\n",
              "      <td>...</td>\n",
              "      <td>...</td>\n",
              "      <td>...</td>\n",
              "      <td>...</td>\n",
              "      <td>...</td>\n",
              "      <td>...</td>\n",
              "      <td>...</td>\n",
              "      <td>...</td>\n",
              "      <td>...</td>\n",
              "      <td>...</td>\n",
              "      <td>...</td>\n",
              "      <td>...</td>\n",
              "      <td>...</td>\n",
              "      <td>...</td>\n",
              "      <td>...</td>\n",
              "      <td>...</td>\n",
              "      <td>...</td>\n",
              "      <td>...</td>\n",
              "      <td>...</td>\n",
              "      <td>...</td>\n",
              "      <td>...</td>\n",
              "      <td>...</td>\n",
              "      <td>...</td>\n",
              "      <td>...</td>\n",
              "      <td>...</td>\n",
              "      <td>...</td>\n",
              "      <td>...</td>\n",
              "      <td>...</td>\n",
              "      <td>...</td>\n",
              "      <td>...</td>\n",
              "      <td>...</td>\n",
              "      <td>...</td>\n",
              "      <td>...</td>\n",
              "      <td>...</td>\n",
              "      <td>...</td>\n",
              "      <td>...</td>\n",
              "      <td>...</td>\n",
              "      <td>...</td>\n",
              "      <td>...</td>\n",
              "      <td>...</td>\n",
              "      <td>...</td>\n",
              "      <td>...</td>\n",
              "    </tr>\n",
              "    <tr>\n",
              "      <th>985</th>\n",
              "      <td>986</td>\n",
              "      <td>0</td>\n",
              "      <td>0</td>\n",
              "      <td>0</td>\n",
              "      <td>0</td>\n",
              "      <td>7349</td>\n",
              "      <td>5801</td>\n",
              "      <td>0</td>\n",
              "      <td>1</td>\n",
              "      <td>0</td>\n",
              "      <td>0</td>\n",
              "      <td>0</td>\n",
              "      <td>10000</td>\n",
              "      <td>0</td>\n",
              "      <td>0</td>\n",
              "      <td>0</td>\n",
              "      <td>0</td>\n",
              "      <td>0</td>\n",
              "      <td>0</td>\n",
              "      <td>0</td>\n",
              "      <td>1</td>\n",
              "      <td>1</td>\n",
              "      <td>31740</td>\n",
              "      <td>24000</td>\n",
              "      <td>31740</td>\n",
              "      <td>24000</td>\n",
              "      <td>0</td>\n",
              "      <td>0</td>\n",
              "      <td>0</td>\n",
              "      <td>0</td>\n",
              "      <td>0</td>\n",
              "      <td>0</td>\n",
              "      <td>0</td>\n",
              "      <td>0</td>\n",
              "      <td>0</td>\n",
              "      <td>0</td>\n",
              "      <td>0</td>\n",
              "      <td>0</td>\n",
              "      <td>0</td>\n",
              "      <td>751</td>\n",
              "      <td>...</td>\n",
              "      <td>0</td>\n",
              "      <td>0</td>\n",
              "      <td>0</td>\n",
              "      <td>0</td>\n",
              "      <td>0</td>\n",
              "      <td>0</td>\n",
              "      <td>0</td>\n",
              "      <td>0</td>\n",
              "      <td>0</td>\n",
              "      <td>0</td>\n",
              "      <td>0</td>\n",
              "      <td>0</td>\n",
              "      <td>0</td>\n",
              "      <td>0</td>\n",
              "      <td>0</td>\n",
              "      <td>0</td>\n",
              "      <td>0</td>\n",
              "      <td>0</td>\n",
              "      <td>0</td>\n",
              "      <td>0</td>\n",
              "      <td>31740</td>\n",
              "      <td>24000</td>\n",
              "      <td>7349</td>\n",
              "      <td>5801</td>\n",
              "      <td>0</td>\n",
              "      <td>0</td>\n",
              "      <td>0</td>\n",
              "      <td>0</td>\n",
              "      <td>0</td>\n",
              "      <td>0</td>\n",
              "      <td>0</td>\n",
              "      <td>0</td>\n",
              "      <td>0</td>\n",
              "      <td>0</td>\n",
              "      <td>0</td>\n",
              "      <td>0</td>\n",
              "      <td>0</td>\n",
              "      <td>0</td>\n",
              "      <td>0</td>\n",
              "      <td>0</td>\n",
              "    </tr>\n",
              "    <tr>\n",
              "      <th>986</th>\n",
              "      <td>987</td>\n",
              "      <td>0</td>\n",
              "      <td>0</td>\n",
              "      <td>0</td>\n",
              "      <td>0</td>\n",
              "      <td>7349</td>\n",
              "      <td>5801</td>\n",
              "      <td>0</td>\n",
              "      <td>1</td>\n",
              "      <td>0</td>\n",
              "      <td>0</td>\n",
              "      <td>0</td>\n",
              "      <td>10400</td>\n",
              "      <td>0</td>\n",
              "      <td>0</td>\n",
              "      <td>0</td>\n",
              "      <td>0</td>\n",
              "      <td>0</td>\n",
              "      <td>0</td>\n",
              "      <td>0</td>\n",
              "      <td>1</td>\n",
              "      <td>1</td>\n",
              "      <td>31740</td>\n",
              "      <td>24000</td>\n",
              "      <td>31740</td>\n",
              "      <td>24000</td>\n",
              "      <td>0</td>\n",
              "      <td>0</td>\n",
              "      <td>0</td>\n",
              "      <td>0</td>\n",
              "      <td>0</td>\n",
              "      <td>0</td>\n",
              "      <td>0</td>\n",
              "      <td>0</td>\n",
              "      <td>0</td>\n",
              "      <td>0</td>\n",
              "      <td>0</td>\n",
              "      <td>0</td>\n",
              "      <td>0</td>\n",
              "      <td>751</td>\n",
              "      <td>...</td>\n",
              "      <td>0</td>\n",
              "      <td>0</td>\n",
              "      <td>0</td>\n",
              "      <td>0</td>\n",
              "      <td>0</td>\n",
              "      <td>0</td>\n",
              "      <td>0</td>\n",
              "      <td>0</td>\n",
              "      <td>0</td>\n",
              "      <td>0</td>\n",
              "      <td>0</td>\n",
              "      <td>0</td>\n",
              "      <td>0</td>\n",
              "      <td>0</td>\n",
              "      <td>0</td>\n",
              "      <td>0</td>\n",
              "      <td>0</td>\n",
              "      <td>0</td>\n",
              "      <td>0</td>\n",
              "      <td>0</td>\n",
              "      <td>31740</td>\n",
              "      <td>24000</td>\n",
              "      <td>7349</td>\n",
              "      <td>5801</td>\n",
              "      <td>0</td>\n",
              "      <td>0</td>\n",
              "      <td>0</td>\n",
              "      <td>0</td>\n",
              "      <td>0</td>\n",
              "      <td>0</td>\n",
              "      <td>0</td>\n",
              "      <td>0</td>\n",
              "      <td>0</td>\n",
              "      <td>0</td>\n",
              "      <td>0</td>\n",
              "      <td>0</td>\n",
              "      <td>0</td>\n",
              "      <td>0</td>\n",
              "      <td>0</td>\n",
              "      <td>0</td>\n",
              "    </tr>\n",
              "    <tr>\n",
              "      <th>987</th>\n",
              "      <td>988</td>\n",
              "      <td>0</td>\n",
              "      <td>0</td>\n",
              "      <td>0</td>\n",
              "      <td>0</td>\n",
              "      <td>7349</td>\n",
              "      <td>5801</td>\n",
              "      <td>0</td>\n",
              "      <td>1</td>\n",
              "      <td>0</td>\n",
              "      <td>0</td>\n",
              "      <td>0</td>\n",
              "      <td>10800</td>\n",
              "      <td>0</td>\n",
              "      <td>0</td>\n",
              "      <td>0</td>\n",
              "      <td>0</td>\n",
              "      <td>0</td>\n",
              "      <td>0</td>\n",
              "      <td>0</td>\n",
              "      <td>1</td>\n",
              "      <td>1</td>\n",
              "      <td>31740</td>\n",
              "      <td>24000</td>\n",
              "      <td>31740</td>\n",
              "      <td>24000</td>\n",
              "      <td>0</td>\n",
              "      <td>0</td>\n",
              "      <td>0</td>\n",
              "      <td>0</td>\n",
              "      <td>0</td>\n",
              "      <td>0</td>\n",
              "      <td>0</td>\n",
              "      <td>0</td>\n",
              "      <td>0</td>\n",
              "      <td>0</td>\n",
              "      <td>0</td>\n",
              "      <td>0</td>\n",
              "      <td>0</td>\n",
              "      <td>751</td>\n",
              "      <td>...</td>\n",
              "      <td>0</td>\n",
              "      <td>0</td>\n",
              "      <td>0</td>\n",
              "      <td>0</td>\n",
              "      <td>0</td>\n",
              "      <td>0</td>\n",
              "      <td>0</td>\n",
              "      <td>0</td>\n",
              "      <td>0</td>\n",
              "      <td>0</td>\n",
              "      <td>0</td>\n",
              "      <td>0</td>\n",
              "      <td>0</td>\n",
              "      <td>0</td>\n",
              "      <td>0</td>\n",
              "      <td>0</td>\n",
              "      <td>0</td>\n",
              "      <td>0</td>\n",
              "      <td>0</td>\n",
              "      <td>0</td>\n",
              "      <td>31740</td>\n",
              "      <td>24000</td>\n",
              "      <td>7349</td>\n",
              "      <td>5801</td>\n",
              "      <td>0</td>\n",
              "      <td>0</td>\n",
              "      <td>0</td>\n",
              "      <td>0</td>\n",
              "      <td>0</td>\n",
              "      <td>0</td>\n",
              "      <td>0</td>\n",
              "      <td>0</td>\n",
              "      <td>0</td>\n",
              "      <td>0</td>\n",
              "      <td>0</td>\n",
              "      <td>0</td>\n",
              "      <td>0</td>\n",
              "      <td>0</td>\n",
              "      <td>0</td>\n",
              "      <td>0</td>\n",
              "    </tr>\n",
              "    <tr>\n",
              "      <th>988</th>\n",
              "      <td>989</td>\n",
              "      <td>0</td>\n",
              "      <td>0</td>\n",
              "      <td>0</td>\n",
              "      <td>0</td>\n",
              "      <td>7349</td>\n",
              "      <td>5801</td>\n",
              "      <td>0</td>\n",
              "      <td>1</td>\n",
              "      <td>0</td>\n",
              "      <td>0</td>\n",
              "      <td>0</td>\n",
              "      <td>11200</td>\n",
              "      <td>0</td>\n",
              "      <td>0</td>\n",
              "      <td>0</td>\n",
              "      <td>0</td>\n",
              "      <td>0</td>\n",
              "      <td>0</td>\n",
              "      <td>0</td>\n",
              "      <td>1</td>\n",
              "      <td>1</td>\n",
              "      <td>31740</td>\n",
              "      <td>24000</td>\n",
              "      <td>31740</td>\n",
              "      <td>24000</td>\n",
              "      <td>0</td>\n",
              "      <td>0</td>\n",
              "      <td>0</td>\n",
              "      <td>0</td>\n",
              "      <td>0</td>\n",
              "      <td>0</td>\n",
              "      <td>0</td>\n",
              "      <td>0</td>\n",
              "      <td>0</td>\n",
              "      <td>0</td>\n",
              "      <td>0</td>\n",
              "      <td>0</td>\n",
              "      <td>0</td>\n",
              "      <td>751</td>\n",
              "      <td>...</td>\n",
              "      <td>0</td>\n",
              "      <td>0</td>\n",
              "      <td>0</td>\n",
              "      <td>0</td>\n",
              "      <td>0</td>\n",
              "      <td>0</td>\n",
              "      <td>0</td>\n",
              "      <td>0</td>\n",
              "      <td>0</td>\n",
              "      <td>0</td>\n",
              "      <td>0</td>\n",
              "      <td>0</td>\n",
              "      <td>0</td>\n",
              "      <td>0</td>\n",
              "      <td>0</td>\n",
              "      <td>0</td>\n",
              "      <td>0</td>\n",
              "      <td>0</td>\n",
              "      <td>0</td>\n",
              "      <td>0</td>\n",
              "      <td>31740</td>\n",
              "      <td>24000</td>\n",
              "      <td>7349</td>\n",
              "      <td>5801</td>\n",
              "      <td>0</td>\n",
              "      <td>0</td>\n",
              "      <td>0</td>\n",
              "      <td>0</td>\n",
              "      <td>0</td>\n",
              "      <td>0</td>\n",
              "      <td>0</td>\n",
              "      <td>0</td>\n",
              "      <td>0</td>\n",
              "      <td>0</td>\n",
              "      <td>0</td>\n",
              "      <td>0</td>\n",
              "      <td>0</td>\n",
              "      <td>0</td>\n",
              "      <td>0</td>\n",
              "      <td>0</td>\n",
              "    </tr>\n",
              "    <tr>\n",
              "      <th>989</th>\n",
              "      <td>990</td>\n",
              "      <td>0</td>\n",
              "      <td>0</td>\n",
              "      <td>0</td>\n",
              "      <td>0</td>\n",
              "      <td>7349</td>\n",
              "      <td>5801</td>\n",
              "      <td>0</td>\n",
              "      <td>1</td>\n",
              "      <td>0</td>\n",
              "      <td>0</td>\n",
              "      <td>0</td>\n",
              "      <td>11600</td>\n",
              "      <td>0</td>\n",
              "      <td>0</td>\n",
              "      <td>0</td>\n",
              "      <td>0</td>\n",
              "      <td>0</td>\n",
              "      <td>0</td>\n",
              "      <td>0</td>\n",
              "      <td>1</td>\n",
              "      <td>1</td>\n",
              "      <td>31740</td>\n",
              "      <td>24000</td>\n",
              "      <td>31740</td>\n",
              "      <td>24000</td>\n",
              "      <td>0</td>\n",
              "      <td>0</td>\n",
              "      <td>0</td>\n",
              "      <td>0</td>\n",
              "      <td>0</td>\n",
              "      <td>0</td>\n",
              "      <td>0</td>\n",
              "      <td>0</td>\n",
              "      <td>0</td>\n",
              "      <td>0</td>\n",
              "      <td>0</td>\n",
              "      <td>0</td>\n",
              "      <td>0</td>\n",
              "      <td>751</td>\n",
              "      <td>...</td>\n",
              "      <td>0</td>\n",
              "      <td>0</td>\n",
              "      <td>0</td>\n",
              "      <td>0</td>\n",
              "      <td>0</td>\n",
              "      <td>0</td>\n",
              "      <td>0</td>\n",
              "      <td>0</td>\n",
              "      <td>0</td>\n",
              "      <td>0</td>\n",
              "      <td>0</td>\n",
              "      <td>0</td>\n",
              "      <td>0</td>\n",
              "      <td>0</td>\n",
              "      <td>0</td>\n",
              "      <td>0</td>\n",
              "      <td>0</td>\n",
              "      <td>0</td>\n",
              "      <td>0</td>\n",
              "      <td>0</td>\n",
              "      <td>31740</td>\n",
              "      <td>24000</td>\n",
              "      <td>7349</td>\n",
              "      <td>5801</td>\n",
              "      <td>0</td>\n",
              "      <td>0</td>\n",
              "      <td>0</td>\n",
              "      <td>0</td>\n",
              "      <td>0</td>\n",
              "      <td>0</td>\n",
              "      <td>0</td>\n",
              "      <td>0</td>\n",
              "      <td>0</td>\n",
              "      <td>0</td>\n",
              "      <td>0</td>\n",
              "      <td>0</td>\n",
              "      <td>0</td>\n",
              "      <td>0</td>\n",
              "      <td>0</td>\n",
              "      <td>0</td>\n",
              "    </tr>\n",
              "  </tbody>\n",
              "</table>\n",
              "<p>990 rows × 92 columns</p>\n",
              "</div>"
            ],
            "text/plain": [
              "     Unnamed: 0  TRACE_SEQUENCE_LINE  ...  UnassignedInt1  UnassignedInt2\n",
              "0             1                    0  ...               0               0\n",
              "1             2                    0  ...               0               0\n",
              "2             3                    0  ...               0               0\n",
              "3             4                    0  ...               0               0\n",
              "4             5                    0  ...               0               0\n",
              "..          ...                  ...  ...             ...             ...\n",
              "985         986                    0  ...               0               0\n",
              "986         987                    0  ...               0               0\n",
              "987         988                    0  ...               0               0\n",
              "988         989                    0  ...               0               0\n",
              "989         990                    0  ...               0               0\n",
              "\n",
              "[990 rows x 92 columns]"
            ]
          },
          "metadata": {},
          "execution_count": 58
        }
      ]
    },
    {
      "cell_type": "code",
      "source": [
        "df = pd.read_csv('out.csv')\n",
        "pd.plotting.autocorrelation_plot(offsets, fig=None, size=50, samples=500)"
      ],
      "metadata": {
        "colab": {
          "base_uri": "https://localhost:8080/",
          "height": 858
        },
        "id": "MHUwTPejNly4",
        "outputId": "6baeb3a5-2332-4c80-cd09-ab24d478462c"
      },
      "execution_count": null,
      "outputs": [
        {
          "output_type": "error",
          "ename": "AttributeError",
          "evalue": "ignored",
          "traceback": [
            "\u001b[0;31m---------------------------------------------------------------------------\u001b[0m",
            "\u001b[0;31mAttributeError\u001b[0m                            Traceback (most recent call last)",
            "\u001b[0;32m<ipython-input-64-bf1f3d6e4151>\u001b[0m in \u001b[0;36m<module>\u001b[0;34m()\u001b[0m\n\u001b[1;32m      1\u001b[0m \u001b[0mdf\u001b[0m \u001b[0;34m=\u001b[0m \u001b[0mpd\u001b[0m\u001b[0;34m.\u001b[0m\u001b[0mread_csv\u001b[0m\u001b[0;34m(\u001b[0m\u001b[0;34m'out.csv'\u001b[0m\u001b[0;34m)\u001b[0m\u001b[0;34m\u001b[0m\u001b[0;34m\u001b[0m\u001b[0m\n\u001b[0;32m----> 2\u001b[0;31m \u001b[0mpd\u001b[0m\u001b[0;34m.\u001b[0m\u001b[0mplotting\u001b[0m\u001b[0;34m.\u001b[0m\u001b[0mautocorrelation_plot\u001b[0m\u001b[0;34m(\u001b[0m\u001b[0moffsets\u001b[0m\u001b[0;34m,\u001b[0m \u001b[0mfig\u001b[0m\u001b[0;34m=\u001b[0m\u001b[0;32mNone\u001b[0m\u001b[0;34m,\u001b[0m \u001b[0msize\u001b[0m\u001b[0;34m=\u001b[0m\u001b[0;36m50\u001b[0m\u001b[0;34m,\u001b[0m \u001b[0msamples\u001b[0m\u001b[0;34m=\u001b[0m\u001b[0;36m500\u001b[0m\u001b[0;34m)\u001b[0m\u001b[0;34m\u001b[0m\u001b[0;34m\u001b[0m\u001b[0m\n\u001b[0m",
            "\u001b[0;32m/usr/local/lib/python3.7/dist-packages/pandas/plotting/_misc.py\u001b[0m in \u001b[0;36mautocorrelation_plot\u001b[0;34m(series, ax, **kwargs)\u001b[0m\n\u001b[1;32m    483\u001b[0m     \"\"\"\n\u001b[1;32m    484\u001b[0m     \u001b[0mplot_backend\u001b[0m \u001b[0;34m=\u001b[0m \u001b[0m_get_plot_backend\u001b[0m\u001b[0;34m(\u001b[0m\u001b[0;34m\"matplotlib\"\u001b[0m\u001b[0;34m)\u001b[0m\u001b[0;34m\u001b[0m\u001b[0;34m\u001b[0m\u001b[0m\n\u001b[0;32m--> 485\u001b[0;31m     \u001b[0;32mreturn\u001b[0m \u001b[0mplot_backend\u001b[0m\u001b[0;34m.\u001b[0m\u001b[0mautocorrelation_plot\u001b[0m\u001b[0;34m(\u001b[0m\u001b[0mseries\u001b[0m\u001b[0;34m=\u001b[0m\u001b[0mseries\u001b[0m\u001b[0;34m,\u001b[0m \u001b[0max\u001b[0m\u001b[0;34m=\u001b[0m\u001b[0max\u001b[0m\u001b[0;34m,\u001b[0m \u001b[0;34m**\u001b[0m\u001b[0mkwargs\u001b[0m\u001b[0;34m)\u001b[0m\u001b[0;34m\u001b[0m\u001b[0;34m\u001b[0m\u001b[0m\n\u001b[0m\u001b[1;32m    486\u001b[0m \u001b[0;34m\u001b[0m\u001b[0m\n\u001b[1;32m    487\u001b[0m \u001b[0;34m\u001b[0m\u001b[0m\n",
            "\u001b[0;32m/usr/local/lib/python3.7/dist-packages/pandas/plotting/_matplotlib/misc.py\u001b[0m in \u001b[0;36mautocorrelation_plot\u001b[0;34m(series, ax, **kwds)\u001b[0m\n\u001b[1;32m    427\u001b[0m     \u001b[0max\u001b[0m\u001b[0;34m.\u001b[0m\u001b[0mset_xlabel\u001b[0m\u001b[0;34m(\u001b[0m\u001b[0;34m\"Lag\"\u001b[0m\u001b[0;34m)\u001b[0m\u001b[0;34m\u001b[0m\u001b[0;34m\u001b[0m\u001b[0m\n\u001b[1;32m    428\u001b[0m     \u001b[0max\u001b[0m\u001b[0;34m.\u001b[0m\u001b[0mset_ylabel\u001b[0m\u001b[0;34m(\u001b[0m\u001b[0;34m\"Autocorrelation\"\u001b[0m\u001b[0;34m)\u001b[0m\u001b[0;34m\u001b[0m\u001b[0;34m\u001b[0m\u001b[0m\n\u001b[0;32m--> 429\u001b[0;31m     \u001b[0max\u001b[0m\u001b[0;34m.\u001b[0m\u001b[0mplot\u001b[0m\u001b[0;34m(\u001b[0m\u001b[0mx\u001b[0m\u001b[0;34m,\u001b[0m \u001b[0my\u001b[0m\u001b[0;34m,\u001b[0m \u001b[0;34m**\u001b[0m\u001b[0mkwds\u001b[0m\u001b[0;34m)\u001b[0m\u001b[0;34m\u001b[0m\u001b[0;34m\u001b[0m\u001b[0m\n\u001b[0m\u001b[1;32m    430\u001b[0m     \u001b[0;32mif\u001b[0m \u001b[0;34m\"label\"\u001b[0m \u001b[0;32min\u001b[0m \u001b[0mkwds\u001b[0m\u001b[0;34m:\u001b[0m\u001b[0;34m\u001b[0m\u001b[0;34m\u001b[0m\u001b[0m\n\u001b[1;32m    431\u001b[0m         \u001b[0max\u001b[0m\u001b[0;34m.\u001b[0m\u001b[0mlegend\u001b[0m\u001b[0;34m(\u001b[0m\u001b[0;34m)\u001b[0m\u001b[0;34m\u001b[0m\u001b[0;34m\u001b[0m\u001b[0m\n",
            "\u001b[0;32m/usr/local/lib/python3.7/dist-packages/matplotlib/axes/_axes.py\u001b[0m in \u001b[0;36mplot\u001b[0;34m(self, scalex, scaley, data, *args, **kwargs)\u001b[0m\n\u001b[1;32m   1645\u001b[0m         \"\"\"\n\u001b[1;32m   1646\u001b[0m         \u001b[0mkwargs\u001b[0m \u001b[0;34m=\u001b[0m \u001b[0mcbook\u001b[0m\u001b[0;34m.\u001b[0m\u001b[0mnormalize_kwargs\u001b[0m\u001b[0;34m(\u001b[0m\u001b[0mkwargs\u001b[0m\u001b[0;34m,\u001b[0m \u001b[0mmlines\u001b[0m\u001b[0;34m.\u001b[0m\u001b[0mLine2D\u001b[0m\u001b[0;34m)\u001b[0m\u001b[0;34m\u001b[0m\u001b[0;34m\u001b[0m\u001b[0m\n\u001b[0;32m-> 1647\u001b[0;31m         \u001b[0mlines\u001b[0m \u001b[0;34m=\u001b[0m \u001b[0;34m[\u001b[0m\u001b[0;34m*\u001b[0m\u001b[0mself\u001b[0m\u001b[0;34m.\u001b[0m\u001b[0m_get_lines\u001b[0m\u001b[0;34m(\u001b[0m\u001b[0;34m*\u001b[0m\u001b[0margs\u001b[0m\u001b[0;34m,\u001b[0m \u001b[0mdata\u001b[0m\u001b[0;34m=\u001b[0m\u001b[0mdata\u001b[0m\u001b[0;34m,\u001b[0m \u001b[0;34m**\u001b[0m\u001b[0mkwargs\u001b[0m\u001b[0;34m)\u001b[0m\u001b[0;34m]\u001b[0m\u001b[0;34m\u001b[0m\u001b[0;34m\u001b[0m\u001b[0m\n\u001b[0m\u001b[1;32m   1648\u001b[0m         \u001b[0;32mfor\u001b[0m \u001b[0mline\u001b[0m \u001b[0;32min\u001b[0m \u001b[0mlines\u001b[0m\u001b[0;34m:\u001b[0m\u001b[0;34m\u001b[0m\u001b[0;34m\u001b[0m\u001b[0m\n\u001b[1;32m   1649\u001b[0m             \u001b[0mself\u001b[0m\u001b[0;34m.\u001b[0m\u001b[0madd_line\u001b[0m\u001b[0;34m(\u001b[0m\u001b[0mline\u001b[0m\u001b[0;34m)\u001b[0m\u001b[0;34m\u001b[0m\u001b[0;34m\u001b[0m\u001b[0m\n",
            "\u001b[0;32m/usr/local/lib/python3.7/dist-packages/matplotlib/axes/_base.py\u001b[0m in \u001b[0;36m__call__\u001b[0;34m(self, *args, **kwargs)\u001b[0m\n\u001b[1;32m    214\u001b[0m                 \u001b[0mthis\u001b[0m \u001b[0;34m+=\u001b[0m \u001b[0margs\u001b[0m\u001b[0;34m[\u001b[0m\u001b[0;36m0\u001b[0m\u001b[0;34m]\u001b[0m\u001b[0;34m,\u001b[0m\u001b[0;34m\u001b[0m\u001b[0;34m\u001b[0m\u001b[0m\n\u001b[1;32m    215\u001b[0m                 \u001b[0margs\u001b[0m \u001b[0;34m=\u001b[0m \u001b[0margs\u001b[0m\u001b[0;34m[\u001b[0m\u001b[0;36m1\u001b[0m\u001b[0;34m:\u001b[0m\u001b[0;34m]\u001b[0m\u001b[0;34m\u001b[0m\u001b[0;34m\u001b[0m\u001b[0m\n\u001b[0;32m--> 216\u001b[0;31m             \u001b[0;32myield\u001b[0m \u001b[0;32mfrom\u001b[0m \u001b[0mself\u001b[0m\u001b[0;34m.\u001b[0m\u001b[0m_plot_args\u001b[0m\u001b[0;34m(\u001b[0m\u001b[0mthis\u001b[0m\u001b[0;34m,\u001b[0m \u001b[0mkwargs\u001b[0m\u001b[0;34m)\u001b[0m\u001b[0;34m\u001b[0m\u001b[0;34m\u001b[0m\u001b[0m\n\u001b[0m\u001b[1;32m    217\u001b[0m \u001b[0;34m\u001b[0m\u001b[0m\n\u001b[1;32m    218\u001b[0m     \u001b[0;32mdef\u001b[0m \u001b[0mget_next_color\u001b[0m\u001b[0;34m(\u001b[0m\u001b[0mself\u001b[0m\u001b[0;34m)\u001b[0m\u001b[0;34m:\u001b[0m\u001b[0;34m\u001b[0m\u001b[0;34m\u001b[0m\u001b[0m\n",
            "\u001b[0;32m/usr/local/lib/python3.7/dist-packages/matplotlib/axes/_base.py\u001b[0m in \u001b[0;36m_plot_args\u001b[0;34m(self, tup, kwargs)\u001b[0m\n\u001b[1;32m    362\u001b[0m                 \"non-matching shapes is deprecated.\")\n\u001b[1;32m    363\u001b[0m         return [func(x[:, j % ncx], y[:, j % ncy], kw, kwargs)\n\u001b[0;32m--> 364\u001b[0;31m                 for j in range(max(ncx, ncy))]\n\u001b[0m\u001b[1;32m    365\u001b[0m \u001b[0;34m\u001b[0m\u001b[0m\n\u001b[1;32m    366\u001b[0m \u001b[0;34m\u001b[0m\u001b[0m\n",
            "\u001b[0;32m/usr/local/lib/python3.7/dist-packages/matplotlib/axes/_base.py\u001b[0m in \u001b[0;36m<listcomp>\u001b[0;34m(.0)\u001b[0m\n\u001b[1;32m    362\u001b[0m                 \"non-matching shapes is deprecated.\")\n\u001b[1;32m    363\u001b[0m         return [func(x[:, j % ncx], y[:, j % ncy], kw, kwargs)\n\u001b[0;32m--> 364\u001b[0;31m                 for j in range(max(ncx, ncy))]\n\u001b[0m\u001b[1;32m    365\u001b[0m \u001b[0;34m\u001b[0m\u001b[0m\n\u001b[1;32m    366\u001b[0m \u001b[0;34m\u001b[0m\u001b[0m\n",
            "\u001b[0;32m/usr/local/lib/python3.7/dist-packages/matplotlib/axes/_base.py\u001b[0m in \u001b[0;36m_makeline\u001b[0;34m(self, x, y, kw, kwargs)\u001b[0m\n\u001b[1;32m    253\u001b[0m         \u001b[0mdefault_dict\u001b[0m \u001b[0;34m=\u001b[0m \u001b[0mself\u001b[0m\u001b[0;34m.\u001b[0m\u001b[0m_getdefaults\u001b[0m\u001b[0;34m(\u001b[0m\u001b[0mset\u001b[0m\u001b[0;34m(\u001b[0m\u001b[0;34m)\u001b[0m\u001b[0;34m,\u001b[0m \u001b[0mkw\u001b[0m\u001b[0;34m)\u001b[0m\u001b[0;34m\u001b[0m\u001b[0;34m\u001b[0m\u001b[0m\n\u001b[1;32m    254\u001b[0m         \u001b[0mself\u001b[0m\u001b[0;34m.\u001b[0m\u001b[0m_setdefaults\u001b[0m\u001b[0;34m(\u001b[0m\u001b[0mdefault_dict\u001b[0m\u001b[0;34m,\u001b[0m \u001b[0mkw\u001b[0m\u001b[0;34m)\u001b[0m\u001b[0;34m\u001b[0m\u001b[0;34m\u001b[0m\u001b[0m\n\u001b[0;32m--> 255\u001b[0;31m         \u001b[0mseg\u001b[0m \u001b[0;34m=\u001b[0m \u001b[0mmlines\u001b[0m\u001b[0;34m.\u001b[0m\u001b[0mLine2D\u001b[0m\u001b[0;34m(\u001b[0m\u001b[0mx\u001b[0m\u001b[0;34m,\u001b[0m \u001b[0my\u001b[0m\u001b[0;34m,\u001b[0m \u001b[0;34m**\u001b[0m\u001b[0mkw\u001b[0m\u001b[0;34m)\u001b[0m\u001b[0;34m\u001b[0m\u001b[0;34m\u001b[0m\u001b[0m\n\u001b[0m\u001b[1;32m    256\u001b[0m         \u001b[0;32mreturn\u001b[0m \u001b[0mseg\u001b[0m\u001b[0;34m\u001b[0m\u001b[0;34m\u001b[0m\u001b[0m\n\u001b[1;32m    257\u001b[0m \u001b[0;34m\u001b[0m\u001b[0m\n",
            "\u001b[0;32m/usr/local/lib/python3.7/dist-packages/matplotlib/lines.py\u001b[0m in \u001b[0;36m__init__\u001b[0;34m(self, xdata, ydata, linewidth, linestyle, color, marker, markersize, markeredgewidth, markeredgecolor, markerfacecolor, markerfacecoloralt, fillstyle, antialiased, dash_capstyle, solid_capstyle, dash_joinstyle, solid_joinstyle, pickradius, drawstyle, markevery, **kwargs)\u001b[0m\n\u001b[1;32m    398\u001b[0m         \u001b[0;31m# update kwargs before updating data to give the caller a\u001b[0m\u001b[0;34m\u001b[0m\u001b[0;34m\u001b[0m\u001b[0;34m\u001b[0m\u001b[0m\n\u001b[1;32m    399\u001b[0m         \u001b[0;31m# chance to init axes (and hence unit support)\u001b[0m\u001b[0;34m\u001b[0m\u001b[0;34m\u001b[0m\u001b[0;34m\u001b[0m\u001b[0m\n\u001b[0;32m--> 400\u001b[0;31m         \u001b[0mself\u001b[0m\u001b[0;34m.\u001b[0m\u001b[0mupdate\u001b[0m\u001b[0;34m(\u001b[0m\u001b[0mkwargs\u001b[0m\u001b[0;34m)\u001b[0m\u001b[0;34m\u001b[0m\u001b[0;34m\u001b[0m\u001b[0m\n\u001b[0m\u001b[1;32m    401\u001b[0m         \u001b[0mself\u001b[0m\u001b[0;34m.\u001b[0m\u001b[0mpickradius\u001b[0m \u001b[0;34m=\u001b[0m \u001b[0mpickradius\u001b[0m\u001b[0;34m\u001b[0m\u001b[0;34m\u001b[0m\u001b[0m\n\u001b[1;32m    402\u001b[0m         \u001b[0mself\u001b[0m\u001b[0;34m.\u001b[0m\u001b[0mind_offset\u001b[0m \u001b[0;34m=\u001b[0m \u001b[0;36m0\u001b[0m\u001b[0;34m\u001b[0m\u001b[0;34m\u001b[0m\u001b[0m\n",
            "\u001b[0;32m/usr/local/lib/python3.7/dist-packages/matplotlib/artist.py\u001b[0m in \u001b[0;36mupdate\u001b[0;34m(self, props)\u001b[0m\n\u001b[1;32m   1004\u001b[0m \u001b[0;34m\u001b[0m\u001b[0m\n\u001b[1;32m   1005\u001b[0m         \u001b[0;32mwith\u001b[0m \u001b[0mcbook\u001b[0m\u001b[0;34m.\u001b[0m\u001b[0m_setattr_cm\u001b[0m\u001b[0;34m(\u001b[0m\u001b[0mself\u001b[0m\u001b[0;34m,\u001b[0m \u001b[0meventson\u001b[0m\u001b[0;34m=\u001b[0m\u001b[0;32mFalse\u001b[0m\u001b[0;34m)\u001b[0m\u001b[0;34m:\u001b[0m\u001b[0;34m\u001b[0m\u001b[0;34m\u001b[0m\u001b[0m\n\u001b[0;32m-> 1006\u001b[0;31m             \u001b[0mret\u001b[0m \u001b[0;34m=\u001b[0m \u001b[0;34m[\u001b[0m\u001b[0m_update_property\u001b[0m\u001b[0;34m(\u001b[0m\u001b[0mself\u001b[0m\u001b[0;34m,\u001b[0m \u001b[0mk\u001b[0m\u001b[0;34m,\u001b[0m \u001b[0mv\u001b[0m\u001b[0;34m)\u001b[0m \u001b[0;32mfor\u001b[0m \u001b[0mk\u001b[0m\u001b[0;34m,\u001b[0m \u001b[0mv\u001b[0m \u001b[0;32min\u001b[0m \u001b[0mprops\u001b[0m\u001b[0;34m.\u001b[0m\u001b[0mitems\u001b[0m\u001b[0;34m(\u001b[0m\u001b[0;34m)\u001b[0m\u001b[0;34m]\u001b[0m\u001b[0;34m\u001b[0m\u001b[0;34m\u001b[0m\u001b[0m\n\u001b[0m\u001b[1;32m   1007\u001b[0m \u001b[0;34m\u001b[0m\u001b[0m\n\u001b[1;32m   1008\u001b[0m         \u001b[0;32mif\u001b[0m \u001b[0mlen\u001b[0m\u001b[0;34m(\u001b[0m\u001b[0mret\u001b[0m\u001b[0;34m)\u001b[0m\u001b[0;34m:\u001b[0m\u001b[0;34m\u001b[0m\u001b[0;34m\u001b[0m\u001b[0m\n",
            "\u001b[0;32m/usr/local/lib/python3.7/dist-packages/matplotlib/artist.py\u001b[0m in \u001b[0;36m<listcomp>\u001b[0;34m(.0)\u001b[0m\n\u001b[1;32m   1004\u001b[0m \u001b[0;34m\u001b[0m\u001b[0m\n\u001b[1;32m   1005\u001b[0m         \u001b[0;32mwith\u001b[0m \u001b[0mcbook\u001b[0m\u001b[0;34m.\u001b[0m\u001b[0m_setattr_cm\u001b[0m\u001b[0;34m(\u001b[0m\u001b[0mself\u001b[0m\u001b[0;34m,\u001b[0m \u001b[0meventson\u001b[0m\u001b[0;34m=\u001b[0m\u001b[0;32mFalse\u001b[0m\u001b[0;34m)\u001b[0m\u001b[0;34m:\u001b[0m\u001b[0;34m\u001b[0m\u001b[0;34m\u001b[0m\u001b[0m\n\u001b[0;32m-> 1006\u001b[0;31m             \u001b[0mret\u001b[0m \u001b[0;34m=\u001b[0m \u001b[0;34m[\u001b[0m\u001b[0m_update_property\u001b[0m\u001b[0;34m(\u001b[0m\u001b[0mself\u001b[0m\u001b[0;34m,\u001b[0m \u001b[0mk\u001b[0m\u001b[0;34m,\u001b[0m \u001b[0mv\u001b[0m\u001b[0;34m)\u001b[0m \u001b[0;32mfor\u001b[0m \u001b[0mk\u001b[0m\u001b[0;34m,\u001b[0m \u001b[0mv\u001b[0m \u001b[0;32min\u001b[0m \u001b[0mprops\u001b[0m\u001b[0;34m.\u001b[0m\u001b[0mitems\u001b[0m\u001b[0;34m(\u001b[0m\u001b[0;34m)\u001b[0m\u001b[0;34m]\u001b[0m\u001b[0;34m\u001b[0m\u001b[0;34m\u001b[0m\u001b[0m\n\u001b[0m\u001b[1;32m   1007\u001b[0m \u001b[0;34m\u001b[0m\u001b[0m\n\u001b[1;32m   1008\u001b[0m         \u001b[0;32mif\u001b[0m \u001b[0mlen\u001b[0m\u001b[0;34m(\u001b[0m\u001b[0mret\u001b[0m\u001b[0;34m)\u001b[0m\u001b[0;34m:\u001b[0m\u001b[0;34m\u001b[0m\u001b[0;34m\u001b[0m\u001b[0m\n",
            "\u001b[0;32m/usr/local/lib/python3.7/dist-packages/matplotlib/artist.py\u001b[0m in \u001b[0;36m_update_property\u001b[0;34m(self, k, v)\u001b[0m\n\u001b[1;32m   1000\u001b[0m                 \u001b[0;32mif\u001b[0m \u001b[0;32mnot\u001b[0m \u001b[0mcallable\u001b[0m\u001b[0;34m(\u001b[0m\u001b[0mfunc\u001b[0m\u001b[0;34m)\u001b[0m\u001b[0;34m:\u001b[0m\u001b[0;34m\u001b[0m\u001b[0;34m\u001b[0m\u001b[0m\n\u001b[1;32m   1001\u001b[0m                     raise AttributeError('{!r} object has no property {!r}'\n\u001b[0;32m-> 1002\u001b[0;31m                                          .format(type(self).__name__, k))\n\u001b[0m\u001b[1;32m   1003\u001b[0m                 \u001b[0;32mreturn\u001b[0m \u001b[0mfunc\u001b[0m\u001b[0;34m(\u001b[0m\u001b[0mv\u001b[0m\u001b[0;34m)\u001b[0m\u001b[0;34m\u001b[0m\u001b[0;34m\u001b[0m\u001b[0m\n\u001b[1;32m   1004\u001b[0m \u001b[0;34m\u001b[0m\u001b[0m\n",
            "\u001b[0;31mAttributeError\u001b[0m: 'Line2D' object has no property 'fig'"
          ]
        },
        {
          "output_type": "display_data",
          "data": {
            "image/png": "[encoded data removed]",
            "text/plain": [
              "<Figure size 846x612 with 1 Axes>"
            ]
          },
          "metadata": {
            "needs_background": "light"
          }
        }
      ]
    },
    {
      "cell_type": "code",
      "metadata": {
        "id": "pX4LO1Itii_z",
        "colab": {
          "base_uri": "https://localhost:8080/",
          "height": 527
        },
        "outputId": "bdb8bfd6-c5c6-4a7b-d703-a82c92d08054"
      },
      "source": [
        "df = pd.read_csv(\n",
        "\n",
        "    'https://raw.github.com/pandas-dev/'\n",
        "\n",
        "    'pandas/master/pandas/tests/io/data/csv/iris.csv'\n",
        "\n",
        ")\n",
        "\n",
        "pd.plotting.andrews_curves(df, 'Name')"
      ],
      "execution_count": null,
      "outputs": [
        {
          "output_type": "execute_result",
          "data": {
            "text/plain": [
              "<matplotlib.axes._subplots.AxesSubplot at 0x7f82f44fb050>"
            ]
          },
          "metadata": {},
          "execution_count": 45
        },
        {
          "output_type": "display_data",
          "data": {
            "image/png": "[encoded data removed]",
            "text/plain": [
              "<Figure size 846x612 with 1 Axes>"
            ]
          },
          "metadata": {
            "needs_background": "light"
          }
        }
      ]
    },
    {
      "cell_type": "code",
      "metadata": {
        "id": "X2ecayK7ioS5"
      },
      "source": [
        ""
      ],
      "execution_count": null,
      "outputs": []
    },
    {
      "cell_type": "code",
      "metadata": {
        "id": "czaEDymqiq5C"
      },
      "source": [
        ""
      ],
      "execution_count": null,
      "outputs": []
    },
    {
      "cell_type": "markdown",
      "metadata": {
        "id": "uiYNBIgJi4Ja"
      },
      "source": [
        "3) Data Analysis"
      ]
    },
    {
      "cell_type": "code",
      "metadata": {
        "id": "7PapjaCqi8LW"
      },
      "source": [
        ""
      ],
      "execution_count": null,
      "outputs": []
    }
  ]
}